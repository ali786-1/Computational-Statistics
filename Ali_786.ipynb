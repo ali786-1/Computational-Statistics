{
  "nbformat": 4,
  "nbformat_minor": 0,
  "metadata": {
    "colab": {
      "name": "Ali 786",
      "provenance": [],
      "collapsed_sections": [],
      "authorship_tag": "ABX9TyNQ2dW29K5e0qi4USXPjhNS",
      "include_colab_link": true
    },
    "kernelspec": {
      "name": "python3",
      "display_name": "Python 3"
    },
    "language_info": {
      "name": "python"
    }
  },
  "cells": [
    {
      "cell_type": "markdown",
      "metadata": {
        "id": "view-in-github",
        "colab_type": "text"
      },
      "source": [
        "<a href=\"https://colab.research.google.com/github/ali786-1/Computational-Statistics/blob/main/Ali_786.ipynb\" target=\"_parent\"><img src=\"https://colab.research.google.com/assets/colab-badge.svg\" alt=\"Open In Colab\"/></a>"
      ]
    },
    {
      "cell_type": "code",
      "metadata": {
        "id": "jo5HcjCXycdL"
      },
      "source": [
        "a=int(input('coefficient of x^2'))\n",
        "b=int(input('coefficient of x'))\n",
        "c=int(input('constant'))\n",
        "d=(b*b-4*a*c)\n",
        "import cmath\n",
        "s=(-b+cmath.sqrt(d))/2*a\n",
        "r=(-b-cmath.sqrt(d))/2*a\n",
        "r1=-b/2*a\n",
        "if d<0:\n",
        "  print('roots are imaginary')\n",
        "  print(s,r)\n",
        "if d>0:\n",
        "  print(' roots are real')\n",
        "  print(s,r)\n",
        "if d==0:\n",
        "  print('roots are equal')\n",
        "  print(r1,r1)"
      ],
      "execution_count": null,
      "outputs": []
    },
    {
      "cell_type": "code",
      "metadata": {
        "id": "gY8kC4XG95as"
      },
      "source": [
        "A=input() \n",
        "B=input() \n",
        "while true:"
      ],
      "execution_count": null,
      "outputs": []
    },
    {
      "cell_type": "code",
      "metadata": {
        "colab": {
          "base_uri": "https://localhost:8080/"
        },
        "id": "bwDJpLKQ9Zsl",
        "outputId": "f23d0272-3f38-4d7a-bae5-4aef3c5b2014"
      },
      "source": [
        "import math\n",
        "print(' neter a number')\n",
        "a=int(input())\n",
        "s=math.sqrt(a)\n",
        "print(' the square root of given number:',s)"
      ],
      "execution_count": null,
      "outputs": [
        {
          "output_type": "stream",
          "text": [
            " neter a number\n",
            "16\n",
            " the square root of given number: 4.0\n"
          ],
          "name": "stdout"
        }
      ]
    },
    {
      "cell_type": "code",
      "metadata": {
        "colab": {
          "base_uri": "https://localhost:8080/"
        },
        "id": "53dhEbdK_qsN",
        "outputId": "702dbf86-5803-40d5-86e1-4507032a5446"
      },
      "source": [
        "a=int(input('enterthe value '))\n",
        "b=int(input('enter the value'))\n",
        "s=input('enetr the operator')\n",
        "if s=='+':\n",
        "  print('a+b is:',a+b)\n",
        "if s=='-':\n",
        "  print('a-b is:',a-b)\n",
        "if s=='*':\n",
        "  print('a*b is',a*b)\n",
        "if s=='/':\n",
        "  print('a/b is :',a/b)      "
      ],
      "execution_count": null,
      "outputs": [
        {
          "output_type": "stream",
          "text": [
            "enterthe value 3\n",
            "enter the value6\n",
            "enetr the operator*\n",
            "a*b is 18\n"
          ],
          "name": "stdout"
        }
      ]
    },
    {
      "cell_type": "code",
      "metadata": {
        "colab": {
          "base_uri": "https://localhost:8080/"
        },
        "id": "tFOiIGlfCsPk",
        "outputId": "ce6b2fa5-1c80-460d-f7b2-9b12266b18aa"
      },
      "source": [
        "a=int(input('enter the value'))\n",
        "b=int(input('enter the value'))\n",
        "print('a&b is :',a&b)\n",
        "print('a^b is :',a^b)"
      ],
      "execution_count": null,
      "outputs": [
        {
          "output_type": "stream",
          "text": [
            "enter the value2\n",
            "enter the value8\n",
            "a&b is : 0\n",
            "a^b is : 10\n"
          ],
          "name": "stdout"
        }
      ]
    },
    {
      "cell_type": "code",
      "metadata": {
        "colab": {
          "base_uri": "https://localhost:8080/"
        },
        "id": "R0Z3FsnRD2Ys",
        "outputId": "a0a9e9e5-0972-4a82-e840-f047e0ab5bf4"
      },
      "source": [
        "import calendar\n",
        "year=int(input('enter the year :'))\n",
        "month=int(input('enter the month'))\n",
        "x=calendar.month(year,month)\n",
        "print(x)"
      ],
      "execution_count": null,
      "outputs": [
        {
          "output_type": "stream",
          "text": [
            "enter the year :2021\n",
            "enter the month7\n",
            "     July 2021\n",
            "Mo Tu We Th Fr Sa Su\n",
            "          1  2  3  4\n",
            " 5  6  7  8  9 10 11\n",
            "12 13 14 15 16 17 18\n",
            "19 20 21 22 23 24 25\n",
            "26 27 28 29 30 31\n",
            "\n"
          ],
          "name": "stdout"
        }
      ]
    },
    {
      "cell_type": "code",
      "metadata": {
        "id": "kz8NvE_VILOt",
        "colab": {
          "base_uri": "https://localhost:8080/"
        },
        "outputId": "9116babc-5a97-4788-c1b2-0479c2a415d5"
      },
      "source": [
        "def prime_number(n):\n",
        "  c=0\n",
        "  for i in range(2,n):\n",
        "    if n%i==0:\n",
        "      c=c+1\n",
        "  if c==0:\n",
        "    print('it is a prime')\n",
        "  else:\n",
        "    print('not a prime')\n",
        "def armstrong(num):\n",
        "  n=p=num\n",
        "  c=0\n",
        "  sum=0\n",
        "  while(p!=0):\n",
        "    c=c+1\n",
        "    p=p//10\n",
        "  while(n!=0):\n",
        "    rem=n%10\n",
        "    sum=sum+rem**c\n",
        "    n=n//10\n",
        "  if sum==num:\n",
        "    print(' the number is armstrong')\n",
        "  else:\n",
        "    print('not an armstrong') \n",
        "def fact(n):\n",
        "  fact=1\n",
        "  for i in range(1,n+1):\n",
        "    fact=fact*i\n",
        "  return fact\n",
        "def strong(n):\n",
        "  m=n\n",
        "  sum=0\n",
        "  while n!=0:\n",
        "     a=n%10\n",
        "     sum=sum+fact(a)\n",
        "     n=n//10\n",
        "  if m==sum:\n",
        "    print('strong')\n",
        "  else:\n",
        "    print('not a strong')  \n",
        "def perfect(n):\n",
        "  temp=n\n",
        "  sum=0\n",
        "  for i in range(1,1+n//2):\n",
        "    sum=sum+i\n",
        "  if sum==temp:\n",
        "    print(temp)  \n",
        "n=int(input('enter the number'))\n",
        "perfect(n)       \n",
        "\n"
      ],
      "execution_count": null,
      "outputs": [
        {
          "output_type": "stream",
          "text": [
            "enter the number6\n",
            "6\n"
          ],
          "name": "stdout"
        }
      ]
    },
    {
      "cell_type": "code",
      "metadata": {
        "id": "tSgyxapo2sTc",
        "colab": {
          "base_uri": "https://localhost:8080/"
        },
        "outputId": "60c87eb8-91b6-4e7c-a2a2-f63d32f7acec"
      },
      "source": [
        "import math\n",
        "a=int(input())\n",
        "b=str(input())\n",
        "print(math.sqrt(a))\n",
        "print(math.log10(a))\n",
        "print(math.sin(a))\n",
        "print('the ascii value of str(b)',ord(b))\n",
        "print('the ascii value of a is',chr(a))\n",
        "print(type(a))\n",
        "print(type(b))\n",
        "print(id(a))\n",
        "print(id(b))"
      ],
      "execution_count": null,
      "outputs": [
        {
          "output_type": "stream",
          "text": [
            "2\n",
            "d\n",
            "1.4142135623730951\n",
            "0.3010299956639812\n",
            "0.9092974268256817\n",
            "the ascii value of str(b) 100\n",
            "the ascii value of a is \u0002\n",
            "<class 'int'>\n",
            "<class 'str'>\n",
            "94878421858848\n",
            "140662940987696\n"
          ],
          "name": "stdout"
        }
      ]
    },
    {
      "cell_type": "code",
      "metadata": {
        "colab": {
          "base_uri": "https://localhost:8080/"
        },
        "id": "OuspFobG7I-8",
        "outputId": "8e1ed94d-48ef-4336-a964-fdca45a6cfd2"
      },
      "source": [
        "a=input('enter the sentence')\n",
        "m=0\n",
        "n=0\n",
        "w=1\n",
        "s=0\n",
        "for char in a:\n",
        "  if char>='A' and char<='Z':\n",
        "    m=m+1\n",
        "  elif char>='a' and char<='z':\n",
        "    n=n+1\n",
        "  elif char==' ':\n",
        "    w=w+1\n",
        "  elif char>='0' and char<='9':\n",
        "    s=s+1\n",
        "print('no of words are :',w)\n",
        "print('no of upper digits lettrs aree :',m)\n",
        "print('no of lower digits letter are :',n)\n",
        "print('no of digits are :',s)          "
      ],
      "execution_count": null,
      "outputs": [
        {
          "output_type": "stream",
          "text": [
            "enter the sentenceADKJ kjdf 23652\n",
            "no of words are : 3\n",
            "no of upper digits lettrs aree : 4\n",
            "no of lower digits letter are : 4\n",
            "no of digits are : 5\n"
          ],
          "name": "stdout"
        }
      ]
    },
    {
      "cell_type": "code",
      "metadata": {
        "colab": {
          "base_uri": "https://localhost:8080/"
        },
        "id": "vn2BMdr8_-2L",
        "outputId": "3620df07-22ac-4840-cdc4-932bdfbc60ad"
      },
      "source": [
        "a=input('enetr a sentence')\n",
        "s=input('enter word to be searched')\n",
        "l=a.split()\n",
        "w=0\n",
        "for i in l:\n",
        "  if i==s:\n",
        "    w=w+1\n",
        "print('the occurance of the word ',w)    "
      ],
      "execution_count": null,
      "outputs": [
        {
          "output_type": "stream",
          "text": [
            "enetr a sentencethe saikrishna is jaffa jaffa\n",
            "enter word to be searchedjaffa\n",
            "2\n"
          ],
          "name": "stdout"
        }
      ]
    },
    {
      "cell_type": "code",
      "metadata": {
        "colab": {
          "base_uri": "https://localhost:8080/"
        },
        "id": "A3cFdd2hEsu1",
        "outputId": "4bb21166-c05e-4287-f139-c66d5a9a8fe8"
      },
      "source": [
        "def palindrome(s):\n",
        "  o=list(s)\n",
        "  r=o.copy()\n",
        "  o.reverse()\n",
        "  if o==r:\n",
        "    print('palindrome')\n",
        "  else:\n",
        "    print('not a palimndrome')\n",
        "s=input('enter a string')\n",
        "palindrome(s)      "
      ],
      "execution_count": null,
      "outputs": [
        {
          "output_type": "stream",
          "text": [
            "enter a stringaja\n",
            "palindrome\n"
          ],
          "name": "stdout"
        }
      ]
    },
    {
      "cell_type": "code",
      "metadata": {
        "id": "3T3z6wbTIiyu",
        "colab": {
          "base_uri": "https://localhost:8080/"
        },
        "outputId": "56da50aa-08cd-4bc6-8243-e11fa53be53a"
      },
      "source": [
        "a=input('enter a sentence')\n",
        "s=a.split()\n",
        "t=[]\n",
        "for i in s:\n",
        "  if i not in t:\n",
        "    t.append(i)\n",
        "print(t)  "
      ],
      "execution_count": null,
      "outputs": [
        {
          "output_type": "stream",
          "text": [
            "enter a sentenceking is always a king\n",
            "['king', 'is', 'always', 'a']\n"
          ],
          "name": "stdout"
        }
      ]
    },
    {
      "cell_type": "code",
      "metadata": {
        "colab": {
          "base_uri": "https://localhost:8080/"
        },
        "id": "qfw26z7zw19U",
        "outputId": "97d1f075-1648-49b5-92f3-3cf96985a953"
      },
      "source": [
        "import math\n",
        "def variance(data,ddof=0):\n",
        "  n=len(data)\n",
        "  mean=sum(data)/n\n",
        "  print('the mean of the given ',mean)\n",
        "  return sum((x-mean)**2 for x in data)/(n-ddof)\n",
        "def st_dev(data):\n",
        "  var=variance(data)\n",
        "  dev=math.sqrt(var)\n",
        "  print(var)\n",
        "  return dev\n",
        "data=(4,45,6,4,4,6,4) \n",
        "st_dev(data)\n",
        "\n",
        "\n"
      ],
      "execution_count": null,
      "outputs": [
        {
          "output_type": "stream",
          "text": [
            "the mean of the given  10.428571428571429\n",
            "199.95918367346937\n"
          ],
          "name": "stdout"
        },
        {
          "output_type": "execute_result",
          "data": {
            "text/plain": [
              "14.14069247503351"
            ]
          },
          "metadata": {},
          "execution_count": 23
        }
      ]
    },
    {
      "cell_type": "code",
      "metadata": {
        "id": "Md0OxvI5ZA2y",
        "colab": {
          "base_uri": "https://localhost:8080/"
        },
        "outputId": "a7cad8de-bea1-4ae5-8ad9-61e76a81b191"
      },
      "source": [
        "\n",
        "\n",
        "X = [[12,7,3],\n",
        "    [4 ,5,6],\n",
        "    [7 ,8,9]]\n",
        "\n",
        "Y = [[5,8,1,2],\n",
        "    [6,7,3,0],\n",
        "    [4,5,9,1]]\n",
        "\n",
        "result = [[0,0,0,0],\n",
        "         [0,0,0,0],\n",
        "         [0,0,0,0]]\n",
        "\n",
        "\n",
        "for i in range(len(X)):\n",
        "   \n",
        "   for j in range(len(Y[0])):\n",
        "       \n",
        "       for k in range(len(Y)):\n",
        "           result[i][j] += X[i][k] * Y[k][j]\n",
        "\n",
        "for r in result:\n",
        "   print(r)"
      ],
      "execution_count": null,
      "outputs": [
        {
          "output_type": "stream",
          "text": [
            "[114, 160, 60, 27]\n",
            "[74, 97, 73, 14]\n",
            "[119, 157, 112, 23]\n"
          ],
          "name": "stdout"
        }
      ]
    },
    {
      "cell_type": "code",
      "metadata": {
        "colab": {
          "base_uri": "https://localhost:8080/"
        },
        "id": "DHVwx6ZuBSyQ",
        "outputId": "59feb96f-9fdc-4929-9175-07108c21b475"
      },
      "source": [
        "from numpy import *\n",
        "matrix=array([[1,2,3],[4,5,6],[7,8,9]])\n",
        "print(matrix)\n",
        "result=array([[0,0,0],[0,0,0],[0,0,0]])\n",
        "for i in range(len(matrix)):\n",
        "  for j in range(len(result)):\n",
        "    result[i][j]=matrix[j][i]\n",
        "\n",
        "print('\\nresult is\\n ',result)    \n",
        "\n",
        " "
      ],
      "execution_count": null,
      "outputs": [
        {
          "output_type": "stream",
          "text": [
            "[[1 2 3]\n",
            " [4 5 6]\n",
            " [7 8 9]]\n",
            "\n",
            "result is\n",
            "  [[1 4 7]\n",
            " [2 5 8]\n",
            " [3 6 9]]\n"
          ],
          "name": "stdout"
        }
      ]
    },
    {
      "cell_type": "code",
      "metadata": {
        "colab": {
          "base_uri": "https://localhost:8080/"
        },
        "id": "xHH4-ttFjOud",
        "outputId": "80958ffe-3de4-451c-c322-4ab4204cf2ce"
      },
      "source": [
        "def insert_spec_position(x,ali,pos):\n",
        "    return ali[:pos-1]+[x]+ali[pos-1:]\n",
        "ali= [1,1,2,3,4,4,5,1]\n",
        "print(\"Original list:\") \n",
        "print(ali)\n",
        "a=int(input('enter the position of the element ')) \n",
        "x=int(input('value of the element'))\n",
        "result = insert_spec_position(x,ali,a)\n",
        "print(\"\\nAfter inserting an element at kth position in the said list:\")\n",
        "print(result)\n"
      ],
      "execution_count": null,
      "outputs": [
        {
          "output_type": "stream",
          "text": [
            "Original list:\n",
            "[1, 1, 2, 3, 4, 4, 5, 1]\n",
            "enter the position of the element 5\n",
            "value of the element344\n",
            "\n",
            "After inserting an element at kth position in the said list:\n",
            "[1, 1, 2, 3, 344, 4, 4, 5, 1]\n"
          ],
          "name": "stdout"
        }
      ]
    },
    {
      "cell_type": "code",
      "metadata": {
        "id": "IRkPQI_70tkO",
        "colab": {
          "base_uri": "https://localhost:8080/"
        },
        "outputId": "67ddf7ee-591c-472e-e059-fde39dedf6ed"
      },
      "source": [
        "l={1:\"game\",2:\"fun\",3:\"relax\"}\n",
        "print(l)\n",
        "m=l.pop(2)\n",
        "print(m)\n",
        "print(\" now the remAining in dictionary are:\",l)\n",
        "a={'s':\"jaaanu\"}\n",
        "i=l.update(a)\n",
        "print(l)\n",
        "print(l.keys())\n",
        "print(l.get('s'))\n",
        "print(l.values())\n",
        "print(l.items())"
      ],
      "execution_count": null,
      "outputs": [
        {
          "output_type": "stream",
          "text": [
            "{1: 'game', 2: 'fun', 3: 'relax'}\n",
            "game\n",
            "fun\n",
            " now the remAining in dictionary are: {1: 'game', 3: 'relax'}\n",
            "{1: 'game', 3: 'relax', 's': 'jaaanu'}\n",
            "dict_keys([1, 3, 's'])\n",
            "jaaanu\n",
            "dict_values(['game', 'relax', 'jaaanu'])\n",
            "dict_items([(1, 'game'), (3, 'relax'), ('s', 'jaaanu')])\n"
          ],
          "name": "stdout"
        }
      ]
    },
    {
      "cell_type": "code",
      "metadata": {
        "colab": {
          "base_uri": "https://localhost:8080/"
        },
        "id": "ah1mswnyh9Y4",
        "outputId": "26dc4eeb-0d9d-414f-b05a-909b01ba1929"
      },
      "source": [
        "\n",
        "from math import factorial\n",
        "\n",
        "n=int(input())\n",
        "r=int(input())\n",
        "ncr=factorial(n)//(factorial(r)*factorial(n-r))\n",
        "print(ncr)\n",
        "for i in range(n):\n",
        "    for j in range(n-i+1):\n",
        "        print(end=\" \")\n",
        "    for j in range(i+1):\n",
        "        print(factorial(i)//(factorial(j)*factorial(i-j)), end=\" \")\n",
        "    print()"
      ],
      "execution_count": null,
      "outputs": [
        {
          "output_type": "stream",
          "name": "stdout",
          "text": [
            "5\n",
            "3\n",
            "10\n",
            "      1 \n",
            "     1 1 \n",
            "    1 2 1 \n",
            "   1 3 3 1 \n",
            "  1 4 6 4 1 \n"
          ]
        }
      ]
    },
    {
      "cell_type": "code",
      "metadata": {
        "colab": {
          "base_uri": "https://localhost:8080/",
          "height": 369
        },
        "id": "JACAO5tH-Gg9",
        "outputId": "35c45b93-5c4e-4a49-faa6-7cfd8bcdb25f"
      },
      "source": [
        "A=input() \n",
        "B=input() \n",
        "while True:\n",
        "    print(B) \n",
        "    Y=(B+A/B)*(0.5) \n",
        "    if Y==B:\n",
        "       Break\n",
        "    B=Y"
      ],
      "execution_count": null,
      "outputs": [
        {
          "output_type": "stream",
          "name": "stdout",
          "text": [
            "25\n",
            "3\n",
            "3\n"
          ]
        },
        {
          "output_type": "error",
          "ename": "TypeError",
          "evalue": "ignored",
          "traceback": [
            "\u001b[0;31m---------------------------------------------------------------------------\u001b[0m",
            "\u001b[0;31mTypeError\u001b[0m                                 Traceback (most recent call last)",
            "\u001b[0;32m<ipython-input-6-69f78faaaa0d>\u001b[0m in \u001b[0;36m<module>\u001b[0;34m()\u001b[0m\n\u001b[1;32m      3\u001b[0m \u001b[0;32mwhile\u001b[0m \u001b[0;32mTrue\u001b[0m\u001b[0;34m:\u001b[0m\u001b[0;34m\u001b[0m\u001b[0;34m\u001b[0m\u001b[0m\n\u001b[1;32m      4\u001b[0m     \u001b[0mprint\u001b[0m\u001b[0;34m(\u001b[0m\u001b[0mB\u001b[0m\u001b[0;34m)\u001b[0m\u001b[0;34m\u001b[0m\u001b[0;34m\u001b[0m\u001b[0m\n\u001b[0;32m----> 5\u001b[0;31m     \u001b[0mY\u001b[0m\u001b[0;34m=\u001b[0m\u001b[0;34m(\u001b[0m\u001b[0mB\u001b[0m\u001b[0;34m+\u001b[0m\u001b[0mA\u001b[0m\u001b[0;34m/\u001b[0m\u001b[0mB\u001b[0m\u001b[0;34m)\u001b[0m\u001b[0;34m*\u001b[0m\u001b[0;34m(\u001b[0m\u001b[0;36m0.5\u001b[0m\u001b[0;34m)\u001b[0m\u001b[0;34m\u001b[0m\u001b[0;34m\u001b[0m\u001b[0m\n\u001b[0m\u001b[1;32m      6\u001b[0m     \u001b[0;32mif\u001b[0m \u001b[0mY\u001b[0m\u001b[0;34m==\u001b[0m\u001b[0mB\u001b[0m\u001b[0;34m:\u001b[0m\u001b[0;34m\u001b[0m\u001b[0;34m\u001b[0m\u001b[0m\n\u001b[1;32m      7\u001b[0m        \u001b[0mBreak\u001b[0m\u001b[0;34m\u001b[0m\u001b[0;34m\u001b[0m\u001b[0m\n",
            "\u001b[0;31mTypeError\u001b[0m: unsupported operand type(s) for /: 'str' and 'str'"
          ]
        }
      ]
    },
    {
      "cell_type": "markdown",
      "source": [
        "Python program to print array in reverse Order."
      ],
      "metadata": {
        "id": "KX-acXzVPjPC"
      }
    },
    {
      "cell_type": "code",
      "source": [
        "l=list(map(int,input().split()))\n",
        "print(l[::-1])"
      ],
      "metadata": {
        "id": "LokKnDHJOZDv"
      },
      "execution_count": null,
      "outputs": []
    },
    {
      "cell_type": "markdown",
      "source": [
        "Write a program in Python to remove duplicate elements form array."
      ],
      "metadata": {
        "id": "gZciY1XePsXc"
      }
    },
    {
      "cell_type": "code",
      "source": [
        "l=list(map(int,input().split()))\n",
        "k=[]\n",
        "for i in l:\n",
        "  if i not in k:\n",
        "    k.append(i)\n",
        "print(k)\n",
        "# m=set(l)\n",
        "# print(m)"
      ],
      "metadata": {
        "id": "3dD0eWyoPgYr"
      },
      "execution_count": null,
      "outputs": []
    },
    {
      "cell_type": "markdown",
      "source": [
        " Write a program in Python to find second highest number in an integer array."
      ],
      "metadata": {
        "id": "sa-Pu8giQLRj"
      }
    },
    {
      "cell_type": "code",
      "source": [
        "l=list(map(int,input().split()))\n",
        "l.sort()\n",
        "m=len(l)\n",
        "print(l[m-2])\n"
      ],
      "metadata": {
        "colab": {
          "base_uri": "https://localhost:8080/"
        },
        "id": "tJr_3C3YQPYT",
        "outputId": "ac278c8a-d7b8-4923-f8e7-f9c75917faff"
      },
      "execution_count": 12,
      "outputs": [
        {
          "output_type": "stream",
          "name": "stdout",
          "text": [
            "2 5 77 33 44 2 2 299\n",
            "77\n"
          ]
        }
      ]
    },
    {
      "cell_type": "markdown",
      "source": [
        "Write a program in Python to find largest and smallest number in array."
      ],
      "metadata": {
        "id": "8z6Q21JjRFPl"
      }
    },
    {
      "cell_type": "code",
      "source": [
        "l=list(map(int,input().split()))\n",
        "l.sort()\n",
        "print(l[0],l[len(l)-1])"
      ],
      "metadata": {
        "id": "Tu2O3rt5RJHO"
      },
      "execution_count": null,
      "outputs": []
    },
    {
      "cell_type": "markdown",
      "source": [
        "Write a program in Python for, How to compare two array is equal in size or not."
      ],
      "metadata": {
        "id": "jB5MKnzcRco-"
      }
    },
    {
      "cell_type": "code",
      "source": [
        "l=list(map(int,input().split()))\n",
        "s=list(map(int,input().split()))\n",
        "if len(l)==len(s):\n",
        "  print(\"yes\")\n",
        "else :\n",
        "  print('no')\n"
      ],
      "metadata": {
        "id": "rQi2nVmURr45"
      },
      "execution_count": null,
      "outputs": []
    },
    {
      "cell_type": "markdown",
      "source": [
        "Write a program in Python for, How to find all pairs in array of integers whose sum is equal to given number."
      ],
      "metadata": {
        "id": "8oVB6c1rSP7x"
      }
    },
    {
      "cell_type": "code",
      "source": [
        "l=list(map(int,input().split()))\n",
        "n=int(input())\n",
        "for i in range(len(l)):\n",
        "  for j in range(i+1,len(l)):\n",
        "    if l[i]+l[j]==n:\n",
        "      print('(%d,%d)'%(l[i],l[j]))\n"
      ],
      "metadata": {
        "id": "5OfrN4zYSTrA"
      },
      "execution_count": null,
      "outputs": []
    },
    {
      "cell_type": "markdown",
      "source": [
        "Write a program in Python for, In a array 1-100 multiple numbers are duplicates, how do you find it."
      ],
      "metadata": {
        "id": "BaXgoKdaUHoo"
      }
    },
    {
      "cell_type": "code",
      "source": [
        "l=list(map(int,input().split()))\n",
        "k=[]\n",
        "c=[]\n",
        "for i in l:\n",
        "  if i not in k:\n",
        "    k.append(i)\n",
        "  else:\n",
        "    if i not in c:\n",
        "      c.append(i)\n",
        "print(\"Repeated elements are\",c)"
      ],
      "metadata": {
        "colab": {
          "base_uri": "https://localhost:8080/"
        },
        "id": "W6NfPdRiUKmx",
        "outputId": "b0e346ff-e331-4796-f80a-8773a8886277"
      },
      "execution_count": 21,
      "outputs": [
        {
          "output_type": "stream",
          "name": "stdout",
          "text": [
            "1 2 3 2 3 4 1 \n",
            "Repeated elements are [2, 3, 1]\n"
          ]
        }
      ]
    },
    {
      "cell_type": "markdown",
      "source": [
        ""
      ],
      "metadata": {
        "id": "bg3si9lUU65R"
      }
    },
    {
      "cell_type": "markdown",
      "source": [
        "Write a program in Python for, In array 1-100 numbers are stored, one number is missing how do you find it."
      ],
      "metadata": {
        "id": "zUdtSfi9U6_J"
      }
    },
    {
      "cell_type": "code",
      "source": [
        "l=list(map(int,input().split()))\n",
        "for i in range(len(l)):\n",
        "  j=i+1\n",
        "  if j==len(l):\n",
        "    break\n",
        "  if (l[i]-l[j])!=-1:\n",
        "    print(l[j]-1)\n",
        "\n"
      ],
      "metadata": {
        "colab": {
          "base_uri": "https://localhost:8080/"
        },
        "id": "PviZJUiLU_-j",
        "outputId": "88112958-3ba2-4cc6-8489-e5dad11e80f5"
      },
      "execution_count": 35,
      "outputs": [
        {
          "output_type": "stream",
          "name": "stdout",
          "text": [
            "1 2 3 4 5 6 7 8 9 10 11 12 13 15 16 17 19\n",
            "14\n",
            "18\n"
          ]
        }
      ]
    },
    {
      "cell_type": "markdown",
      "source": [
        " Python program to remove given character from String."
      ],
      "metadata": {
        "id": "0tuRaUuYaRQs"
      }
    },
    {
      "cell_type": "code",
      "source": [
        "s=input()\n",
        "k=s.replace(input(),\"\")\n",
        "print(k)"
      ],
      "metadata": {
        "colab": {
          "base_uri": "https://localhost:8080/"
        },
        "id": "PydPl6KYaSr7",
        "outputId": "f7b0d22d-be07-4627-9e98-37001e27e7e1"
      },
      "execution_count": 61,
      "outputs": [
        {
          "output_type": "stream",
          "name": "stdout",
          "text": [
            "pavan\n",
            "a\n",
            "pvn\n"
          ]
        }
      ]
    },
    {
      "cell_type": "markdown",
      "source": [
        " Python Program to count occurrence of a given characters in string."
      ],
      "metadata": {
        "id": "0wiM2StPbEf8"
      }
    },
    {
      "cell_type": "code",
      "source": [
        "s=input()\n",
        "l=list((s))\n",
        "x=[]\n",
        "for i in l:\n",
        "  if i not in x:\n",
        "    x.append(i)\n",
        "    k=s.count(i)\n",
        "    print(i,\"occurred\",k,\"times\")\n",
        "\n"
      ],
      "metadata": {
        "colab": {
          "base_uri": "https://localhost:8080/"
        },
        "id": "2s4_d3AqbHxr",
        "outputId": "f1b166d2-c142-455c-8335-75bac69f9721"
      },
      "execution_count": 73,
      "outputs": [
        {
          "output_type": "stream",
          "name": "stdout",
          "text": [
            "pavaaa\n",
            "p occurred 1 times\n",
            "a occurred 4 times\n",
            "v occurred 1 times\n"
          ]
        }
      ]
    },
    {
      "cell_type": "markdown",
      "source": [
        "Python program to check a String is palindrome or not."
      ],
      "metadata": {
        "id": "mTMQtVIqepjR"
      }
    },
    {
      "cell_type": "code",
      "source": [
        "s=input()\n",
        "if s==s[::-1]:\n",
        "  print(\"yes\")\n",
        "else:\n",
        "  print(\"No\")"
      ],
      "metadata": {
        "colab": {
          "base_uri": "https://localhost:8080/"
        },
        "id": "F26aXJfZesM_",
        "outputId": "ed932e7a-59e2-4eb7-a4fe-e6d4e94bca23"
      },
      "execution_count": 64,
      "outputs": [
        {
          "output_type": "stream",
          "name": "stdout",
          "text": [
            "madam\n",
            "yes\n"
          ]
        }
      ]
    },
    {
      "cell_type": "markdown",
      "source": [
        " Python program to check given character is vowel or consonant."
      ],
      "metadata": {
        "id": "8bIKT6thfAay"
      }
    },
    {
      "cell_type": "code",
      "source": [
        "s=input()\n",
        "for i in s:\n",
        "  if i in ('a','e','i','o','u','A','E','I','O','U'):\n",
        "    print(i,'is vowel')\n",
        "  else:\n",
        "    print(i,'\"consonant\")"
      ],
      "metadata": {
        "colab": {
          "base_uri": "https://localhost:8080/"
        },
        "id": "gFA4LRoZfRgP",
        "outputId": "373c3134-e808-4ce3-8291-9e4e5829d253"
      },
      "execution_count": 75,
      "outputs": [
        {
          "output_type": "stream",
          "name": "stdout",
          "text": [
            "ujjwal\n",
            "u is vowel\n",
            "j consonant\n",
            "j consonant\n",
            "w consonant\n",
            "a is vowel\n",
            "l consonant\n"
          ]
        }
      ]
    },
    {
      "cell_type": "markdown",
      "source": [
        "Python program to count Occurrence Of Vowels & Consonants in a       String."
      ],
      "metadata": {
        "id": "6dsGv-_ajYs6"
      }
    },
    {
      "cell_type": "code",
      "source": [
        "s=input()\n",
        "v=0\n",
        "c=0\n",
        "for i in s:\n",
        "  if i in ('a','e','i','o','u','A','E','I','O','U'):\n",
        "    v=v+1\n",
        "  else:\n",
        "    c=c+1\n",
        "print(\"vowels are \",v,\"\")\n",
        "\n"
      ],
      "metadata": {
        "colab": {
          "base_uri": "https://localhost:8080/"
        },
        "id": "Ca6BX9_zjbxx",
        "outputId": "06b31c44-bbd7-4db2-da0c-698e5092a9ec"
      },
      "execution_count": 76,
      "outputs": [
        {
          "name": "stdout",
          "output_type": "stream",
          "text": [
            "pavan\n"
          ]
        }
      ]
    }
  ]
}