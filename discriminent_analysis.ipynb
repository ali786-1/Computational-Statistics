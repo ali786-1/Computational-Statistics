{
  "nbformat": 4,
  "nbformat_minor": 0,
  "metadata": {
    "colab": {
      "provenance": [],
      "include_colab_link": true
    },
    "kernelspec": {
      "name": "python3",
      "display_name": "Python 3"
    },
    "language_info": {
      "name": "python"
    }
  },
  "cells": [
    {
      "cell_type": "markdown",
      "metadata": {
        "id": "view-in-github",
        "colab_type": "text"
      },
      "source": [
        "<a href=\"https://colab.research.google.com/github/ali786-1/Computational-Statistics/blob/main/discriminent_analysis.ipynb\" target=\"_parent\"><img src=\"https://colab.research.google.com/assets/colab-badge.svg\" alt=\"Open In Colab\"/></a>"
      ]
    },
    {
      "cell_type": "code",
      "execution_count": null,
      "metadata": {
        "colab": {
          "base_uri": "https://localhost:8080/"
        },
        "id": "_nYYC7oLHQXN",
        "outputId": "9bd585b9-f3f0-4155-894e-1113a2951cf8"
      },
      "outputs": [
        {
          "output_type": "stream",
          "name": "stdout",
          "text": [
            "Enter no of observations3\n",
            "enter 1 number1 2 3 4 5 4 5 5 3 5 6\n",
            "enter 2 number2 3 3 5 5 2 0 2 2 3 3\n",
            "[[1.0, 2.0, 3.0, 4.0, 5.0, 4.0, 5.0, 5.0, 3.0, 5.0, 6.0], [2.0, 3.0, 3.0, 5.0, 5.0, 2.0, 0.0, 2.0, 2.0, 3.0, 3.0]]\n"
          ]
        }
      ],
      "source": [
        "n=int(input(\"Enter no of observations\"))\n",
        "x=[]\n",
        "for i in range(n-1):\n",
        "  k=list(map(float,input(f'enter {i+1} number').split()))\n",
        "  x.append(k)\n",
        "print(x)"
      ]
    },
    {
      "cell_type": "code",
      "source": [
        "import numpy as np\n",
        "# y=list(map(int,input().split()))\n",
        "x=np.array(x)\n",
        "print(x)\n",
        "mu=[]\n",
        "s=0\n",
        "for i in range(len(x)):\n",
        "  s=np.sum(x[i])\n",
        "  mu.append(s/len(x[i]))\n",
        "np.round(mu,2)\n",
        "Mu=np.array(mu)\n",
        "print(Mu)"
      ],
      "metadata": {
        "colab": {
          "base_uri": "https://localhost:8080/"
        },
        "id": "qHIYi39qH3RJ",
        "outputId": "9a6f5a65-ab3d-46a5-bd65-7b8558e70679"
      },
      "execution_count": null,
      "outputs": [
        {
          "output_type": "stream",
          "name": "stdout",
          "text": [
            "[[1. 2. 3. 4. 5. 4. 5. 5. 3. 5. 6.]\n",
            " [2. 3. 3. 5. 5. 2. 0. 2. 2. 3. 3.]]\n",
            "[3.90909091 2.72727273]\n"
          ]
        }
      ]
    },
    {
      "cell_type": "code",
      "source": [
        "y=list(map(float,input().split()))\n",
        "t=y.copy()"
      ],
      "metadata": {
        "colab": {
          "base_uri": "https://localhost:8080/"
        },
        "id": "GMUf-CbMKgxw",
        "outputId": "3c9adcf1-e207-4a7b-89bb-e4df90f433df"
      },
      "execution_count": 146,
      "outputs": [
        {
          "name": "stdout",
          "output_type": "stream",
          "text": [
            "1 1 1 1 1 2 2 2 2 2 2\n"
          ]
        }
      ]
    },
    {
      "cell_type": "code",
      "source": [
        "y=np.array(y)\n",
        "l=len(x[0])\n",
        "X=np.transpose(x)\n",
        "l\n",
        "X"
      ],
      "metadata": {
        "colab": {
          "base_uri": "https://localhost:8080/"
        },
        "id": "ByWF7U7_K__Z",
        "outputId": "17595766-5b5f-4984-b8ec-4a3e64b1dec5"
      },
      "execution_count": 147,
      "outputs": [
        {
          "output_type": "execute_result",
          "data": {
            "text/plain": [
              "array([[1., 2.],\n",
              "       [2., 3.],\n",
              "       [3., 3.],\n",
              "       [4., 5.],\n",
              "       [5., 5.],\n",
              "       [4., 2.],\n",
              "       [5., 0.],\n",
              "       [5., 2.],\n",
              "       [3., 2.],\n",
              "       [5., 3.],\n",
              "       [6., 3.]])"
            ]
          },
          "metadata": {},
          "execution_count": 147
        }
      ]
    },
    {
      "cell_type": "code",
      "source": [
        "cat=[]\n",
        "x1=[]\n",
        "x2=[]\n",
        "for i in y:\n",
        "  if i not in cat:\n",
        "    cat.append(i)\n",
        "cat\n",
        "for i in range(n-1):\n",
        "  c=0\n",
        "  for j in range(l):\n",
        "    if y[j]==1:\n",
        "      c=c+1\n",
        "  row1=[]\n",
        "  row2=[]\n",
        "  for k in range(c):\n",
        "    row1.append(x[i][k])\n",
        "  for h in range(c,len(y)):\n",
        "    row2.append(x[i][h])\n",
        "  x1.append(row1)\n",
        "  x2.append(row2)\n",
        "print(x1)\n",
        "print(x2)\n",
        "\n",
        "    \n"
      ],
      "metadata": {
        "colab": {
          "base_uri": "https://localhost:8080/"
        },
        "id": "AqNXjLGTLIO5",
        "outputId": "33061b21-354c-4a70-a503-76c2150a90c1"
      },
      "execution_count": 148,
      "outputs": [
        {
          "output_type": "stream",
          "name": "stdout",
          "text": [
            "[[1.0, 2.0, 3.0, 4.0, 5.0], [2.0, 3.0, 3.0, 5.0, 5.0]]\n",
            "[[4.0, 5.0, 5.0, 3.0, 5.0, 6.0], [2.0, 0.0, 2.0, 2.0, 3.0, 3.0]]\n"
          ]
        }
      ]
    },
    {
      "cell_type": "code",
      "source": [
        "mu1=[]\n",
        "mu2=[]\n",
        "for i in range(len(x1)):\n",
        "  s=np.sum(x1[i])\n",
        "  a=np.sum(x2[i])\n",
        "  mu1.append(s/len(x1[i]))\n",
        "  mu2.append(a/len(x2[i]))\n",
        "print(np.round(mu1,2))\n",
        "print(np.round(mu2,2))"
      ],
      "metadata": {
        "colab": {
          "base_uri": "https://localhost:8080/"
        },
        "id": "LxVKppoXNanh",
        "outputId": "f052a3da-c885-425d-cda6-363bc5d13382"
      },
      "execution_count": 149,
      "outputs": [
        {
          "output_type": "stream",
          "name": "stdout",
          "text": [
            "[3.  3.6]\n",
            "[4.67 2.  ]\n"
          ]
        }
      ]
    },
    {
      "cell_type": "code",
      "source": [
        "x_mu=X-Mu\n",
        "x_mu \n"
      ],
      "metadata": {
        "colab": {
          "base_uri": "https://localhost:8080/"
        },
        "id": "tSx59XjNUy_N",
        "outputId": "60a6efe2-afb7-4ea5-c1bd-86054fb34d90"
      },
      "execution_count": null,
      "outputs": [
        {
          "output_type": "execute_result",
          "data": {
            "text/plain": [
              "array([[-2.90909091, -0.72727273],\n",
              "       [-1.90909091,  0.27272727],\n",
              "       [-0.90909091,  0.27272727],\n",
              "       [ 0.09090909,  2.27272727],\n",
              "       [ 1.09090909,  2.27272727],\n",
              "       [ 0.09090909, -0.72727273],\n",
              "       [ 1.09090909, -2.72727273],\n",
              "       [ 1.09090909, -0.72727273],\n",
              "       [-0.90909091, -0.72727273],\n",
              "       [ 1.09090909,  0.27272727],\n",
              "       [ 2.09090909,  0.27272727]])"
            ]
          },
          "metadata": {},
          "execution_count": 139
        }
      ]
    },
    {
      "cell_type": "code",
      "source": [
        "c=(np.dot(np.transpose(x_mu),x_mu))/l\n",
        "c\n",
        "c_inv=np.linalg.inv(c)\n",
        "c_inv"
      ],
      "metadata": {
        "colab": {
          "base_uri": "https://localhost:8080/"
        },
        "id": "ZNKCYl6tXYNj",
        "outputId": "f0f310d6-0683-46a4-9f3d-ac69ab8e3a42"
      },
      "execution_count": null,
      "outputs": [
        {
          "output_type": "execute_result",
          "data": {
            "text/plain": [
              "array([[ 0.48327726, -0.04136157],\n",
              "       [-0.04136157,  0.548585  ]])"
            ]
          },
          "metadata": {},
          "execution_count": 140
        }
      ]
    },
    {
      "cell_type": "code",
      "source": [
        "print(\"Enter  elemets to predict \")\n",
        "xk=list(map(float,input().split()))\n",
        "XK=np.array(xk)\n",
        "print(XK)\n",
        "                                                                                                                                                                                                                                                                                                                                                                                                                                                                                                                                                                                 \n"
      ],
      "metadata": {
        "colab": {
          "base_uri": "https://localhost:8080/"
        },
        "id": "ip9ZU1SlYbgM",
        "outputId": "33dcc206-59f3-4920-bbfa-4b60eb71c36f"
      },
      "execution_count": 144,
      "outputs": [
        {
          "output_type": "stream",
          "name": "stdout",
          "text": [
            "Enter  elemets to predict \n",
            "5.1 3.2\n",
            "[5.1 3.2]\n"
          ]
        }
      ]
    },
    {
      "cell_type": "code",
      "source": [
        "f=[]\n",
        "muu=[mu1,mu2]\n",
        "for i in range(n-1):\n",
        "  f.append(np.dot(np.dot(muu[i],c_inv),np.transpose(xk)) - 0.5*np.dot(np.dot(muu[i],c_inv),np.transpose(muu[i]))+np.log(t.count(cat[i])/l))\n",
        "np.round(f,2)\n",
        "for i in range(n-1):\n",
        "  print(f'F{i+1} value is {f[i]}')\n",
        "if f[0]>f[1]:\n",
        "  print(\"New entries belongs to first category\")\n",
        "else:\n",
        "  print(\"New entries belongs to second category\")\n"
      ],
      "metadata": {
        "colab": {
          "base_uri": "https://localhost:8080/"
        },
        "id": "9eSKI6sgY9V5",
        "outputId": "75436df6-561b-404c-8ed6-d8af724a5ca4"
      },
      "execution_count": 145,
      "outputs": [
        {
          "output_type": "stream",
          "name": "stdout",
          "text": [
            "F1 value is 6.486040957466721\n",
            "F2 value is 7.393771842052746\n",
            "New entries belongs to second category\n"
          ]
        }
      ]
    }
  ]
}