{
  "nbformat": 4,
  "nbformat_minor": 0,
  "metadata": {
    "colab": {
      "name": "Manova.ipynb",
      "provenance": [],
      "collapsed_sections": [],
      "authorship_tag": "ABX9TyPKMJD1uYkaFP5T5IYA2LmO",
      "include_colab_link": true
    },
    "kernelspec": {
      "name": "python3",
      "display_name": "Python 3"
    },
    "language_info": {
      "name": "python"
    }
  },
  "cells": [
    {
      "cell_type": "markdown",
      "metadata": {
        "id": "view-in-github",
        "colab_type": "text"
      },
      "source": [
        "<a href=\"https://colab.research.google.com/github/ali786-1/Computational-Statistics/blob/main/Manova.ipynb\" target=\"_parent\"><img src=\"https://colab.research.google.com/assets/colab-badge.svg\" alt=\"Open In Colab\"/></a>"
      ]
    },
    {
      "cell_type": "markdown",
      "source": [
        "MANOVA"
      ],
      "metadata": {
        "id": "sggFiHMgGFxQ"
      }
    },
    {
      "cell_type": "code",
      "source": [
        "n=int(input(\"Enter No of Treatements\"))\n",
        "tr=[]\n",
        "s=0\n",
        "for i in range(n):\n",
        "  t1=[]\n",
        "  k=int(input(f'Enter no of sub cells of t{i+1}'))\n",
        "  s+=k\n",
        "  for j in range(k):\n",
        "    l=list(map(int,input(\"ENTER Sub group elemnets\").split()))\n",
        "    t1.append(l)\n",
        "  tr.append(t1)\n",
        "  p=len(t1[1])\n",
        "print(tr)\n",
        "\n",
        "\n",
        "\n"
      ],
      "metadata": {
        "colab": {
          "base_uri": "https://localhost:8080/"
        },
        "id": "tISm8vLWGHAH",
        "outputId": "32753bd1-af6e-4385-ab08-047e81e5f34e"
      },
      "execution_count": 8,
      "outputs": [
        {
          "output_type": "stream",
          "name": "stdout",
          "text": [
            "Enter No of Treatements3\n",
            "Enter no of sub cells of t13\n",
            "ENTER Sub group elemnets9 3\n",
            "ENTER Sub group elemnets6 2\n",
            "ENTER Sub group elemnets9 7\n",
            "Enter no of sub cells of t22\n",
            "ENTER Sub group elemnets0 4\n",
            "ENTER Sub group elemnets2 0\n",
            "Enter no of sub cells of t33\n",
            "ENTER Sub group elemnets3 8\n",
            "ENTER Sub group elemnets1 9\n",
            "ENTER Sub group elemnets2 7\n",
            "[[[9, 3], [6, 2], [9, 7]], [[0, 4], [2, 0]], [[3, 8], [1, 9], [2, 7]]]\n"
          ]
        }
      ]
    },
    {
      "cell_type": "code",
      "source": [
        "yi=[]\n",
        "for i in tr: \n",
        "  e=0\n",
        "  e2=0\n",
        "  y1=[]\n",
        "  for j in range(len(i)):\n",
        "    e+=i[j][0]\n",
        "    e2+=i[j][1]\n",
        "  y1=([e//len(i),e2//len(i)])\n",
        "  yi.append(y1)\n",
        "print(yi)\n",
        "\n",
        "  \n",
        "  \n",
        "  \n"
      ],
      "metadata": {
        "colab": {
          "base_uri": "https://localhost:8080/"
        },
        "id": "8CuPD3viJj9r",
        "outputId": "576d0ecb-3fea-4ecf-8dd3-5ad1b043e9ba"
      },
      "execution_count": 36,
      "outputs": [
        {
          "output_type": "stream",
          "name": "stdout",
          "text": [
            "[[8, 4], [1, 2], [2, 8]]\n"
          ]
        }
      ]
    },
    {
      "cell_type": "code",
      "source": [
        "y_bar2=[]\n",
        "g=0\n",
        "h=0\n",
        "for i in tr:\n",
        "  for j in range(len(i)):\n",
        "    g+=i[j][0]\n",
        "    h+=i[j][1]\n",
        "y_bar2=([g//s,h//s])\n",
        "print(y_bar2)\n",
        "\n"
      ],
      "metadata": {
        "colab": {
          "base_uri": "https://localhost:8080/"
        },
        "id": "KxpsS55tQvwg",
        "outputId": "3013ca1e-7f55-4064-e817-66a383933376"
      },
      "execution_count": 57,
      "outputs": [
        {
          "output_type": "stream",
          "name": "stdout",
          "text": [
            "[4, 5]\n"
          ]
        }
      ]
    },
    {
      "cell_type": "code",
      "source": [
        "#for y1\n",
        "sse=0\n",
        "sse2=0\n",
        "sst=0\n",
        "sst2=0\n",
        "for i in range(n):\n",
        "  for j in tr[i]:\n",
        "    sse+=(j[0]-yi[i][0])**2\n",
        "    sse2+=(j[1]-yi[i][1])**2\n",
        "    sst+=(j[0]-y_bar2[0])**2\n",
        "    sst2+=(j[1]-y_bar2[1])**2\n",
        "ssr=sst-sse\n",
        "ssr2=sst2-sse2"
      ],
      "metadata": {
        "id": "si3QyodhRjsC"
      },
      "execution_count": 70,
      "outputs": []
    },
    {
      "cell_type": "code",
      "source": [
        "csse=0\n",
        "csst=0\n",
        "for i in range(n):\n",
        "  for j in tr[i]:\n",
        "    csse+=((j[0]*j[1])-yi[i][0]*yi[i][1])\n",
        "    csst+=(j[0]*j[1]-y_bar2[0]*y_bar2[1])\n",
        "    cssr=csst-csse\n",
        "print(csse,csst,cssr)\n"
      ],
      "metadata": {
        "colab": {
          "base_uri": "https://localhost:8080/"
        },
        "id": "_Tb_XlFqb7E8",
        "outputId": "d82487ae-f8b9-4539-a189-ab02188a750c"
      },
      "execution_count": 68,
      "outputs": [
        {
          "output_type": "stream",
          "name": "stdout",
          "text": [
            "1 -11 -12\n"
          ]
        }
      ]
    },
    {
      "cell_type": "code",
      "source": [
        " \n",
        "import numpy as np\n",
        "import math\n",
        "B = np.array([[ssr,cssr],[cssr,ssr2]])\n",
        "W = np.array([[sse,csse],[csse,sse2]])\n",
        "T = np.array([[sst,csst],[csst,sst2]])"
      ],
      "metadata": {
        "id": "S9lE73K_dnI1"
      },
      "execution_count": 71,
      "outputs": []
    },
    {
      "cell_type": "code",
      "source": [
        "degreeOfFreedom_regression = n-1\n",
        "degreeOfFreedom_error = s - n\n",
        "degreeOfFreedom_total = s - 1"
      ],
      "metadata": {
        "id": "Wwh1GcHxfShy"
      },
      "execution_count": 72,
      "outputs": []
    },
    {
      "cell_type": "code",
      "source": [
        "det_W = np.linalg.det(W)\n",
        "det_T = np.linalg.det(T)\n",
        "lamda = abs(det_W)/abs(det_T)\n",
        "lamda"
      ],
      "metadata": {
        "colab": {
          "base_uri": "https://localhost:8080/"
        },
        "id": "VcFfeTWifsxe",
        "outputId": "327c382d-0885-4ded-ddff-6062a2408370"
      },
      "execution_count": 73,
      "outputs": [
        {
          "output_type": "execute_result",
          "data": {
            "text/plain": [
              "0.0384553499597747"
            ]
          },
          "metadata": {},
          "execution_count": 73
        }
      ]
    },
    {
      "cell_type": "code",
      "source": [
        "f_cal = ((s-n-1)/(n-1))*((1-math.sqrt(lamda))/math.sqrt(lamda))\n",
        "f_cal"
      ],
      "metadata": {
        "colab": {
          "base_uri": "https://localhost:8080/"
        },
        "id": "KysvfiMogD9u",
        "outputId": "605b2eba-a2d3-4415-ee70-f9391d2877d4"
      },
      "execution_count": 74,
      "outputs": [
        {
          "output_type": "execute_result",
          "data": {
            "text/plain": [
              "8.198859563778381"
            ]
          },
          "metadata": {},
          "execution_count": 74
        }
      ]
    },
    {
      "cell_type": "code",
      "source": [
        "import pandas as pd\n",
        "val={\n",
        "    'Source Of Variation':['Regression','Error','Total'],\n",
        "     'Sum Of Squares':[B,W,T],\n",
        "     'Degree of Freedom':[n-1,s-n,s-1],\n",
        "     'Wills Value':['',lamda,''],\n",
        "     'F-statistic':['',f_cal,'']\n",
        "}\n",
        "c=pd.DataFrame(val)\n",
        "c"
      ],
      "metadata": {
        "colab": {
          "base_uri": "https://localhost:8080/",
          "height": 143
        },
        "id": "AHnDYSKNgMzG",
        "outputId": "aefc3aef-be49-48af-9d1a-683b303c29de"
      },
      "execution_count": 78,
      "outputs": [
        {
          "output_type": "execute_result",
          "data": {
            "text/plain": [
              "  Source Of Variation          Sum Of Squares  Degree of Freedom Wills Value  \\\n",
              "0          Regression  [[78, -12], [-12, 48]]                  2               \n",
              "1               Error      [[10, 1], [1, 24]]                  5    0.038455   \n",
              "2               Total  [[88, -11], [-11, 72]]                  7               \n",
              "\n",
              "  F-statistic  \n",
              "0              \n",
              "1     8.19886  \n",
              "2              "
            ],
            "text/html": [
              "\n",
              "  <div id=\"df-c18fed3b-6002-4109-810a-29665e4566f4\">\n",
              "    <div class=\"colab-df-container\">\n",
              "      <div>\n",
              "<style scoped>\n",
              "    .dataframe tbody tr th:only-of-type {\n",
              "        vertical-align: middle;\n",
              "    }\n",
              "\n",
              "    .dataframe tbody tr th {\n",
              "        vertical-align: top;\n",
              "    }\n",
              "\n",
              "    .dataframe thead th {\n",
              "        text-align: right;\n",
              "    }\n",
              "</style>\n",
              "<table border=\"1\" class=\"dataframe\">\n",
              "  <thead>\n",
              "    <tr style=\"text-align: right;\">\n",
              "      <th></th>\n",
              "      <th>Source Of Variation</th>\n",
              "      <th>Sum Of Squares</th>\n",
              "      <th>Degree of Freedom</th>\n",
              "      <th>Wills Value</th>\n",
              "      <th>F-statistic</th>\n",
              "    </tr>\n",
              "  </thead>\n",
              "  <tbody>\n",
              "    <tr>\n",
              "      <th>0</th>\n",
              "      <td>Regression</td>\n",
              "      <td>[[78, -12], [-12, 48]]</td>\n",
              "      <td>2</td>\n",
              "      <td></td>\n",
              "      <td></td>\n",
              "    </tr>\n",
              "    <tr>\n",
              "      <th>1</th>\n",
              "      <td>Error</td>\n",
              "      <td>[[10, 1], [1, 24]]</td>\n",
              "      <td>5</td>\n",
              "      <td>0.038455</td>\n",
              "      <td>8.19886</td>\n",
              "    </tr>\n",
              "    <tr>\n",
              "      <th>2</th>\n",
              "      <td>Total</td>\n",
              "      <td>[[88, -11], [-11, 72]]</td>\n",
              "      <td>7</td>\n",
              "      <td></td>\n",
              "      <td></td>\n",
              "    </tr>\n",
              "  </tbody>\n",
              "</table>\n",
              "</div>\n",
              "      <button class=\"colab-df-convert\" onclick=\"convertToInteractive('df-c18fed3b-6002-4109-810a-29665e4566f4')\"\n",
              "              title=\"Convert this dataframe to an interactive table.\"\n",
              "              style=\"display:none;\">\n",
              "        \n",
              "  <svg xmlns=\"http://www.w3.org/2000/svg\" height=\"24px\"viewBox=\"0 0 24 24\"\n",
              "       width=\"24px\">\n",
              "    <path d=\"M0 0h24v24H0V0z\" fill=\"none\"/>\n",
              "    <path d=\"M18.56 5.44l.94 2.06.94-2.06 2.06-.94-2.06-.94-.94-2.06-.94 2.06-2.06.94zm-11 1L8.5 8.5l.94-2.06 2.06-.94-2.06-.94L8.5 2.5l-.94 2.06-2.06.94zm10 10l.94 2.06.94-2.06 2.06-.94-2.06-.94-.94-2.06-.94 2.06-2.06.94z\"/><path d=\"M17.41 7.96l-1.37-1.37c-.4-.4-.92-.59-1.43-.59-.52 0-1.04.2-1.43.59L10.3 9.45l-7.72 7.72c-.78.78-.78 2.05 0 2.83L4 21.41c.39.39.9.59 1.41.59.51 0 1.02-.2 1.41-.59l7.78-7.78 2.81-2.81c.8-.78.8-2.07 0-2.86zM5.41 20L4 18.59l7.72-7.72 1.47 1.35L5.41 20z\"/>\n",
              "  </svg>\n",
              "      </button>\n",
              "      \n",
              "  <style>\n",
              "    .colab-df-container {\n",
              "      display:flex;\n",
              "      flex-wrap:wrap;\n",
              "      gap: 12px;\n",
              "    }\n",
              "\n",
              "    .colab-df-convert {\n",
              "      background-color: #E8F0FE;\n",
              "      border: none;\n",
              "      border-radius: 50%;\n",
              "      cursor: pointer;\n",
              "      display: none;\n",
              "      fill: #1967D2;\n",
              "      height: 32px;\n",
              "      padding: 0 0 0 0;\n",
              "      width: 32px;\n",
              "    }\n",
              "\n",
              "    .colab-df-convert:hover {\n",
              "      background-color: #E2EBFA;\n",
              "      box-shadow: 0px 1px 2px rgba(60, 64, 67, 0.3), 0px 1px 3px 1px rgba(60, 64, 67, 0.15);\n",
              "      fill: #174EA6;\n",
              "    }\n",
              "\n",
              "    [theme=dark] .colab-df-convert {\n",
              "      background-color: #3B4455;\n",
              "      fill: #D2E3FC;\n",
              "    }\n",
              "\n",
              "    [theme=dark] .colab-df-convert:hover {\n",
              "      background-color: #434B5C;\n",
              "      box-shadow: 0px 1px 3px 1px rgba(0, 0, 0, 0.15);\n",
              "      filter: drop-shadow(0px 1px 2px rgba(0, 0, 0, 0.3));\n",
              "      fill: #FFFFFF;\n",
              "    }\n",
              "  </style>\n",
              "\n",
              "      <script>\n",
              "        const buttonEl =\n",
              "          document.querySelector('#df-c18fed3b-6002-4109-810a-29665e4566f4 button.colab-df-convert');\n",
              "        buttonEl.style.display =\n",
              "          google.colab.kernel.accessAllowed ? 'block' : 'none';\n",
              "\n",
              "        async function convertToInteractive(key) {\n",
              "          const element = document.querySelector('#df-c18fed3b-6002-4109-810a-29665e4566f4');\n",
              "          const dataTable =\n",
              "            await google.colab.kernel.invokeFunction('convertToInteractive',\n",
              "                                                     [key], {});\n",
              "          if (!dataTable) return;\n",
              "\n",
              "          const docLinkHtml = 'Like what you see? Visit the ' +\n",
              "            '<a target=\"_blank\" href=https://colab.research.google.com/notebooks/data_table.ipynb>data table notebook</a>'\n",
              "            + ' to learn more about interactive tables.';\n",
              "          element.innerHTML = '';\n",
              "          dataTable['output_type'] = 'display_data';\n",
              "          await google.colab.output.renderOutput(dataTable, element);\n",
              "          const docLink = document.createElement('div');\n",
              "          docLink.innerHTML = docLinkHtml;\n",
              "          element.appendChild(docLink);\n",
              "        }\n",
              "      </script>\n",
              "    </div>\n",
              "  </div>\n",
              "  "
            ]
          },
          "metadata": {},
          "execution_count": 78
        }
      ]
    },
    {
      "cell_type": "code",
      "source": [
        "import scipy.stats as sci\n",
        "f_table = sci.f.ppf(0.95,2*(n-1),2*(s-n-1))\n",
        "f_table"
      ],
      "metadata": {
        "colab": {
          "base_uri": "https://localhost:8080/"
        },
        "id": "mRg_KtBhhXpu",
        "outputId": "8d88e58a-b74b-4e19-eb1e-3bf74a02fdfb"
      },
      "execution_count": 77,
      "outputs": [
        {
          "output_type": "execute_result",
          "data": {
            "text/plain": [
              "3.837853354555897"
            ]
          },
          "metadata": {},
          "execution_count": 77
        }
      ]
    },
    {
      "cell_type": "code",
      "source": [
        "#inference\n",
        "if f_cal>=f_table:\n",
        "  print(\"Reject H0\")\n",
        "else:\n",
        "  print(\"Accept_H0\")"
      ],
      "metadata": {
        "colab": {
          "base_uri": "https://localhost:8080/"
        },
        "id": "PnVw7lOnh82E",
        "outputId": "972988aa-e238-4645-cd7e-3a15c96f539b"
      },
      "execution_count": 79,
      "outputs": [
        {
          "output_type": "stream",
          "name": "stdout",
          "text": [
            "Reject H0\n"
          ]
        }
      ]
    }
  ]
}