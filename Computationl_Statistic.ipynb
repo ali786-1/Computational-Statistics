{
  "cells": [
    {
      "cell_type": "markdown",
      "metadata": {
        "id": "view-in-github",
        "colab_type": "text"
      },
      "source": [
        "<a href=\"https://colab.research.google.com/github/ali786-1/Computational-Statistics/blob/main/Computationl_Statistic.ipynb\" target=\"_parent\"><img src=\"https://colab.research.google.com/assets/colab-badge.svg\" alt=\"Open In Colab\"/></a>"
      ]
    },
    {
      "cell_type": "code",
      "execution_count": null,
      "id": "ec96fc33",
      "metadata": {
        "id": "ec96fc33"
      },
      "outputs": [],
      "source": [
        "import pandas as pd"
      ]
    },
    {
      "cell_type": "code",
      "execution_count": null,
      "id": "27110cf4",
      "metadata": {
        "id": "27110cf4",
        "outputId": "9e845541-4061-4f48-c448-9c689ce75ede"
      },
      "outputs": [
        {
          "data": {
            "text/html": [
              "<div>\n",
              "<style scoped>\n",
              "    .dataframe tbody tr th:only-of-type {\n",
              "        vertical-align: middle;\n",
              "    }\n",
              "\n",
              "    .dataframe tbody tr th {\n",
              "        vertical-align: top;\n",
              "    }\n",
              "\n",
              "    .dataframe thead th {\n",
              "        text-align: right;\n",
              "    }\n",
              "</style>\n",
              "<table border=\"1\" class=\"dataframe\">\n",
              "  <thead>\n",
              "    <tr style=\"text-align: right;\">\n",
              "      <th></th>\n",
              "      <th>Name</th>\n",
              "      <th>Roll</th>\n",
              "      <th>BEEE</th>\n",
              "      <th>DE</th>\n",
              "      <th>OS</th>\n",
              "    </tr>\n",
              "  </thead>\n",
              "  <tbody>\n",
              "    <tr>\n",
              "      <th>0</th>\n",
              "      <td>Ali</td>\n",
              "      <td>164</td>\n",
              "      <td>69</td>\n",
              "      <td>65</td>\n",
              "      <td>58</td>\n",
              "    </tr>\n",
              "    <tr>\n",
              "      <th>1</th>\n",
              "      <td>Ujjwal</td>\n",
              "      <td>161</td>\n",
              "      <td>69</td>\n",
              "      <td>64</td>\n",
              "      <td>59</td>\n",
              "    </tr>\n",
              "    <tr>\n",
              "      <th>2</th>\n",
              "      <td>Akram</td>\n",
              "      <td>162</td>\n",
              "      <td>66</td>\n",
              "      <td>62</td>\n",
              "      <td>56</td>\n",
              "    </tr>\n",
              "    <tr>\n",
              "      <th>3</th>\n",
              "      <td>Kiran</td>\n",
              "      <td>128</td>\n",
              "      <td>67</td>\n",
              "      <td>63</td>\n",
              "      <td>53</td>\n",
              "    </tr>\n",
              "    <tr>\n",
              "      <th>4</th>\n",
              "      <td>Uday</td>\n",
              "      <td>177</td>\n",
              "      <td>49</td>\n",
              "      <td>67</td>\n",
              "      <td>51</td>\n",
              "    </tr>\n",
              "    <tr>\n",
              "      <th>5</th>\n",
              "      <td>Pavan</td>\n",
              "      <td>131</td>\n",
              "      <td>66</td>\n",
              "      <td>65</td>\n",
              "      <td>52</td>\n",
              "    </tr>\n",
              "    <tr>\n",
              "      <th>6</th>\n",
              "      <td>Rahul</td>\n",
              "      <td>118</td>\n",
              "      <td>45</td>\n",
              "      <td>61</td>\n",
              "      <td>58</td>\n",
              "    </tr>\n",
              "    <tr>\n",
              "      <th>7</th>\n",
              "      <td>Koushik</td>\n",
              "      <td>132</td>\n",
              "      <td>67</td>\n",
              "      <td>62</td>\n",
              "      <td>56</td>\n",
              "    </tr>\n",
              "    <tr>\n",
              "      <th>8</th>\n",
              "      <td>Shoheb</td>\n",
              "      <td>167</td>\n",
              "      <td>56</td>\n",
              "      <td>65</td>\n",
              "      <td>57</td>\n",
              "    </tr>\n",
              "  </tbody>\n",
              "</table>\n",
              "</div>"
            ],
            "text/plain": [
              "      Name  Roll  BEEE  DE  OS\n",
              "0      Ali   164    69  65  58\n",
              "1   Ujjwal   161    69  64  59\n",
              "2    Akram   162    66  62  56\n",
              "3    Kiran   128    67  63  53\n",
              "4     Uday   177    49  67  51\n",
              "5    Pavan   131    66  65  52\n",
              "6    Rahul   118    45  61  58\n",
              "7  Koushik   132    67  62  56\n",
              "8   Shoheb   167    56  65  57"
            ]
          },
          "execution_count": 5,
          "metadata": {},
          "output_type": "execute_result"
        }
      ],
      "source": [
        "df=pd.read_excel(\"C:\\\\Users\\\\exam2\\\\Desktop\\\\work.xlsx\")\n",
        "df"
      ]
    },
    {
      "cell_type": "code",
      "execution_count": null,
      "id": "0bf9ab88",
      "metadata": {
        "id": "0bf9ab88",
        "outputId": "9ce41876-c420-497d-8033-ba1772fd991a"
      },
      "outputs": [
        {
          "data": {
            "text/html": [
              "<div>\n",
              "<style scoped>\n",
              "    .dataframe tbody tr th:only-of-type {\n",
              "        vertical-align: middle;\n",
              "    }\n",
              "\n",
              "    .dataframe tbody tr th {\n",
              "        vertical-align: top;\n",
              "    }\n",
              "\n",
              "    .dataframe thead th {\n",
              "        text-align: right;\n",
              "    }\n",
              "</style>\n",
              "<table border=\"1\" class=\"dataframe\">\n",
              "  <thead>\n",
              "    <tr style=\"text-align: right;\">\n",
              "      <th></th>\n",
              "      <th>Name</th>\n",
              "      <th>Roll</th>\n",
              "      <th>BEEE</th>\n",
              "      <th>DE</th>\n",
              "      <th>OS</th>\n",
              "      <th>total</th>\n",
              "    </tr>\n",
              "  </thead>\n",
              "  <tbody>\n",
              "    <tr>\n",
              "      <th>0</th>\n",
              "      <td>Ali</td>\n",
              "      <td>164</td>\n",
              "      <td>69</td>\n",
              "      <td>65</td>\n",
              "      <td>58</td>\n",
              "      <td>192</td>\n",
              "    </tr>\n",
              "    <tr>\n",
              "      <th>1</th>\n",
              "      <td>Ujjwal</td>\n",
              "      <td>161</td>\n",
              "      <td>69</td>\n",
              "      <td>64</td>\n",
              "      <td>59</td>\n",
              "      <td>192</td>\n",
              "    </tr>\n",
              "    <tr>\n",
              "      <th>2</th>\n",
              "      <td>Akram</td>\n",
              "      <td>162</td>\n",
              "      <td>66</td>\n",
              "      <td>62</td>\n",
              "      <td>56</td>\n",
              "      <td>184</td>\n",
              "    </tr>\n",
              "    <tr>\n",
              "      <th>3</th>\n",
              "      <td>Kiran</td>\n",
              "      <td>128</td>\n",
              "      <td>67</td>\n",
              "      <td>63</td>\n",
              "      <td>53</td>\n",
              "      <td>183</td>\n",
              "    </tr>\n",
              "    <tr>\n",
              "      <th>4</th>\n",
              "      <td>Uday</td>\n",
              "      <td>177</td>\n",
              "      <td>49</td>\n",
              "      <td>67</td>\n",
              "      <td>51</td>\n",
              "      <td>167</td>\n",
              "    </tr>\n",
              "    <tr>\n",
              "      <th>5</th>\n",
              "      <td>Pavan</td>\n",
              "      <td>131</td>\n",
              "      <td>66</td>\n",
              "      <td>65</td>\n",
              "      <td>52</td>\n",
              "      <td>183</td>\n",
              "    </tr>\n",
              "    <tr>\n",
              "      <th>6</th>\n",
              "      <td>Rahul</td>\n",
              "      <td>118</td>\n",
              "      <td>45</td>\n",
              "      <td>61</td>\n",
              "      <td>58</td>\n",
              "      <td>164</td>\n",
              "    </tr>\n",
              "    <tr>\n",
              "      <th>7</th>\n",
              "      <td>Koushik</td>\n",
              "      <td>132</td>\n",
              "      <td>67</td>\n",
              "      <td>62</td>\n",
              "      <td>56</td>\n",
              "      <td>185</td>\n",
              "    </tr>\n",
              "    <tr>\n",
              "      <th>8</th>\n",
              "      <td>Shoheb</td>\n",
              "      <td>167</td>\n",
              "      <td>56</td>\n",
              "      <td>65</td>\n",
              "      <td>57</td>\n",
              "      <td>178</td>\n",
              "    </tr>\n",
              "  </tbody>\n",
              "</table>\n",
              "</div>"
            ],
            "text/plain": [
              "      Name  Roll  BEEE  DE  OS  total\n",
              "0      Ali   164    69  65  58    192\n",
              "1   Ujjwal   161    69  64  59    192\n",
              "2    Akram   162    66  62  56    184\n",
              "3    Kiran   128    67  63  53    183\n",
              "4     Uday   177    49  67  51    167\n",
              "5    Pavan   131    66  65  52    183\n",
              "6    Rahul   118    45  61  58    164\n",
              "7  Koushik   132    67  62  56    185\n",
              "8   Shoheb   167    56  65  57    178"
            ]
          },
          "execution_count": 8,
          "metadata": {},
          "output_type": "execute_result"
        }
      ],
      "source": [
        "df['total']=df['BEEE']+df['DE']+df['OS']\n",
        "df"
      ]
    },
    {
      "cell_type": "code",
      "execution_count": null,
      "id": "953ca4d8",
      "metadata": {
        "id": "953ca4d8",
        "outputId": "269352a4-6570-45b1-e7b1-6bb11570c9b7"
      },
      "outputs": [
        {
          "data": {
            "text/html": [
              "<div>\n",
              "<style scoped>\n",
              "    .dataframe tbody tr th:only-of-type {\n",
              "        vertical-align: middle;\n",
              "    }\n",
              "\n",
              "    .dataframe tbody tr th {\n",
              "        vertical-align: top;\n",
              "    }\n",
              "\n",
              "    .dataframe thead th {\n",
              "        text-align: right;\n",
              "    }\n",
              "</style>\n",
              "<table border=\"1\" class=\"dataframe\">\n",
              "  <thead>\n",
              "    <tr style=\"text-align: right;\">\n",
              "      <th></th>\n",
              "      <th>Name</th>\n",
              "      <th>Roll</th>\n",
              "      <th>BEEE</th>\n",
              "      <th>DE</th>\n",
              "      <th>OS</th>\n",
              "      <th>total</th>\n",
              "      <th>per</th>\n",
              "    </tr>\n",
              "  </thead>\n",
              "  <tbody>\n",
              "    <tr>\n",
              "      <th>0</th>\n",
              "      <td>Ali</td>\n",
              "      <td>164</td>\n",
              "      <td>69</td>\n",
              "      <td>65</td>\n",
              "      <td>58</td>\n",
              "      <td>192</td>\n",
              "      <td>64.00</td>\n",
              "    </tr>\n",
              "    <tr>\n",
              "      <th>1</th>\n",
              "      <td>Ujjwal</td>\n",
              "      <td>161</td>\n",
              "      <td>69</td>\n",
              "      <td>64</td>\n",
              "      <td>59</td>\n",
              "      <td>192</td>\n",
              "      <td>64.00</td>\n",
              "    </tr>\n",
              "    <tr>\n",
              "      <th>2</th>\n",
              "      <td>Akram</td>\n",
              "      <td>162</td>\n",
              "      <td>66</td>\n",
              "      <td>62</td>\n",
              "      <td>56</td>\n",
              "      <td>184</td>\n",
              "      <td>61.33</td>\n",
              "    </tr>\n",
              "    <tr>\n",
              "      <th>3</th>\n",
              "      <td>Kiran</td>\n",
              "      <td>128</td>\n",
              "      <td>67</td>\n",
              "      <td>63</td>\n",
              "      <td>53</td>\n",
              "      <td>183</td>\n",
              "      <td>61.00</td>\n",
              "    </tr>\n",
              "    <tr>\n",
              "      <th>4</th>\n",
              "      <td>Uday</td>\n",
              "      <td>177</td>\n",
              "      <td>49</td>\n",
              "      <td>67</td>\n",
              "      <td>51</td>\n",
              "      <td>167</td>\n",
              "      <td>55.67</td>\n",
              "    </tr>\n",
              "    <tr>\n",
              "      <th>5</th>\n",
              "      <td>Pavan</td>\n",
              "      <td>131</td>\n",
              "      <td>66</td>\n",
              "      <td>65</td>\n",
              "      <td>52</td>\n",
              "      <td>183</td>\n",
              "      <td>61.00</td>\n",
              "    </tr>\n",
              "    <tr>\n",
              "      <th>6</th>\n",
              "      <td>Rahul</td>\n",
              "      <td>118</td>\n",
              "      <td>45</td>\n",
              "      <td>61</td>\n",
              "      <td>58</td>\n",
              "      <td>164</td>\n",
              "      <td>54.67</td>\n",
              "    </tr>\n",
              "    <tr>\n",
              "      <th>7</th>\n",
              "      <td>Koushik</td>\n",
              "      <td>132</td>\n",
              "      <td>67</td>\n",
              "      <td>62</td>\n",
              "      <td>56</td>\n",
              "      <td>185</td>\n",
              "      <td>61.67</td>\n",
              "    </tr>\n",
              "    <tr>\n",
              "      <th>8</th>\n",
              "      <td>Shoheb</td>\n",
              "      <td>167</td>\n",
              "      <td>56</td>\n",
              "      <td>65</td>\n",
              "      <td>57</td>\n",
              "      <td>178</td>\n",
              "      <td>59.33</td>\n",
              "    </tr>\n",
              "  </tbody>\n",
              "</table>\n",
              "</div>"
            ],
            "text/plain": [
              "      Name  Roll  BEEE  DE  OS  total    per\n",
              "0      Ali   164    69  65  58    192  64.00\n",
              "1   Ujjwal   161    69  64  59    192  64.00\n",
              "2    Akram   162    66  62  56    184  61.33\n",
              "3    Kiran   128    67  63  53    183  61.00\n",
              "4     Uday   177    49  67  51    167  55.67\n",
              "5    Pavan   131    66  65  52    183  61.00\n",
              "6    Rahul   118    45  61  58    164  54.67\n",
              "7  Koushik   132    67  62  56    185  61.67\n",
              "8   Shoheb   167    56  65  57    178  59.33"
            ]
          },
          "execution_count": 14,
          "metadata": {},
          "output_type": "execute_result"
        }
      ],
      "source": [
        "df['per']=round(df['total']/3,2)\n",
        "df"
      ]
    },
    {
      "cell_type": "code",
      "execution_count": null,
      "id": "fc6b5503",
      "metadata": {
        "id": "fc6b5503"
      },
      "outputs": [],
      "source": [
        "def g(x):\n",
        "    if x>=90:\n",
        "        return 'A'\n",
        "    elif x>=80 and x<90:\n",
        "        return 'B'\n",
        "    elif x>=70 and x<80:\n",
        "        return 'C'\n",
        "    elif x>=60 and x<70:\n",
        "        return 'D'\n",
        "    elif x>=50 and x<60:\n",
        "        return 'E'\n",
        "    else:\n",
        "        return 'F'"
      ]
    },
    {
      "cell_type": "code",
      "execution_count": null,
      "id": "f8222a67",
      "metadata": {
        "id": "f8222a67",
        "outputId": "cebfabb4-3a5e-439c-a5ff-554934ada013"
      },
      "outputs": [
        {
          "data": {
            "text/html": [
              "<div>\n",
              "<style scoped>\n",
              "    .dataframe tbody tr th:only-of-type {\n",
              "        vertical-align: middle;\n",
              "    }\n",
              "\n",
              "    .dataframe tbody tr th {\n",
              "        vertical-align: top;\n",
              "    }\n",
              "\n",
              "    .dataframe thead th {\n",
              "        text-align: right;\n",
              "    }\n",
              "</style>\n",
              "<table border=\"1\" class=\"dataframe\">\n",
              "  <thead>\n",
              "    <tr style=\"text-align: right;\">\n",
              "      <th></th>\n",
              "      <th>Name</th>\n",
              "      <th>Roll</th>\n",
              "      <th>BEEE</th>\n",
              "      <th>DE</th>\n",
              "      <th>OS</th>\n",
              "      <th>total</th>\n",
              "      <th>per</th>\n",
              "      <th>grade</th>\n",
              "    </tr>\n",
              "  </thead>\n",
              "  <tbody>\n",
              "    <tr>\n",
              "      <th>0</th>\n",
              "      <td>Ali</td>\n",
              "      <td>164</td>\n",
              "      <td>69</td>\n",
              "      <td>65</td>\n",
              "      <td>58</td>\n",
              "      <td>192</td>\n",
              "      <td>64.00</td>\n",
              "      <td>D</td>\n",
              "    </tr>\n",
              "    <tr>\n",
              "      <th>1</th>\n",
              "      <td>Ujjwal</td>\n",
              "      <td>161</td>\n",
              "      <td>69</td>\n",
              "      <td>64</td>\n",
              "      <td>59</td>\n",
              "      <td>192</td>\n",
              "      <td>64.00</td>\n",
              "      <td>D</td>\n",
              "    </tr>\n",
              "    <tr>\n",
              "      <th>2</th>\n",
              "      <td>Akram</td>\n",
              "      <td>162</td>\n",
              "      <td>66</td>\n",
              "      <td>62</td>\n",
              "      <td>56</td>\n",
              "      <td>184</td>\n",
              "      <td>61.33</td>\n",
              "      <td>D</td>\n",
              "    </tr>\n",
              "    <tr>\n",
              "      <th>3</th>\n",
              "      <td>Kiran</td>\n",
              "      <td>128</td>\n",
              "      <td>67</td>\n",
              "      <td>63</td>\n",
              "      <td>53</td>\n",
              "      <td>183</td>\n",
              "      <td>61.00</td>\n",
              "      <td>D</td>\n",
              "    </tr>\n",
              "    <tr>\n",
              "      <th>4</th>\n",
              "      <td>Uday</td>\n",
              "      <td>177</td>\n",
              "      <td>49</td>\n",
              "      <td>67</td>\n",
              "      <td>51</td>\n",
              "      <td>167</td>\n",
              "      <td>55.67</td>\n",
              "      <td>E</td>\n",
              "    </tr>\n",
              "    <tr>\n",
              "      <th>5</th>\n",
              "      <td>Pavan</td>\n",
              "      <td>131</td>\n",
              "      <td>66</td>\n",
              "      <td>65</td>\n",
              "      <td>52</td>\n",
              "      <td>183</td>\n",
              "      <td>61.00</td>\n",
              "      <td>D</td>\n",
              "    </tr>\n",
              "    <tr>\n",
              "      <th>6</th>\n",
              "      <td>Rahul</td>\n",
              "      <td>118</td>\n",
              "      <td>45</td>\n",
              "      <td>61</td>\n",
              "      <td>58</td>\n",
              "      <td>164</td>\n",
              "      <td>54.67</td>\n",
              "      <td>E</td>\n",
              "    </tr>\n",
              "    <tr>\n",
              "      <th>7</th>\n",
              "      <td>Koushik</td>\n",
              "      <td>132</td>\n",
              "      <td>67</td>\n",
              "      <td>62</td>\n",
              "      <td>56</td>\n",
              "      <td>185</td>\n",
              "      <td>61.67</td>\n",
              "      <td>D</td>\n",
              "    </tr>\n",
              "    <tr>\n",
              "      <th>8</th>\n",
              "      <td>Shoheb</td>\n",
              "      <td>167</td>\n",
              "      <td>56</td>\n",
              "      <td>65</td>\n",
              "      <td>57</td>\n",
              "      <td>178</td>\n",
              "      <td>59.33</td>\n",
              "      <td>E</td>\n",
              "    </tr>\n",
              "  </tbody>\n",
              "</table>\n",
              "</div>"
            ],
            "text/plain": [
              "      Name  Roll  BEEE  DE  OS  total    per grade\n",
              "0      Ali   164    69  65  58    192  64.00     D\n",
              "1   Ujjwal   161    69  64  59    192  64.00     D\n",
              "2    Akram   162    66  62  56    184  61.33     D\n",
              "3    Kiran   128    67  63  53    183  61.00     D\n",
              "4     Uday   177    49  67  51    167  55.67     E\n",
              "5    Pavan   131    66  65  52    183  61.00     D\n",
              "6    Rahul   118    45  61  58    164  54.67     E\n",
              "7  Koushik   132    67  62  56    185  61.67     D\n",
              "8   Shoheb   167    56  65  57    178  59.33     E"
            ]
          },
          "execution_count": 25,
          "metadata": {},
          "output_type": "execute_result"
        }
      ],
      "source": [
        "df['grade']=[g(i) for i in df['per']]\n",
        "df"
      ]
    },
    {
      "cell_type": "code",
      "execution_count": null,
      "id": "3e0684db",
      "metadata": {
        "id": "3e0684db"
      },
      "outputs": [],
      "source": [
        "df.to_excel(\"C:\\\\Users\\\\exam2\\\\Documents\\\\new.xlsx\",index=False)"
      ]
    },
    {
      "cell_type": "code",
      "execution_count": null,
      "id": "173a0045",
      "metadata": {
        "id": "173a0045",
        "outputId": "c46f98a8-a22b-4194-e696-2523c8d8b397"
      },
      "outputs": [
        {
          "data": {
            "text/html": [
              "<div>\n",
              "<style scoped>\n",
              "    .dataframe tbody tr th:only-of-type {\n",
              "        vertical-align: middle;\n",
              "    }\n",
              "\n",
              "    .dataframe tbody tr th {\n",
              "        vertical-align: top;\n",
              "    }\n",
              "\n",
              "    .dataframe thead th {\n",
              "        text-align: right;\n",
              "    }\n",
              "</style>\n",
              "<table border=\"1\" class=\"dataframe\">\n",
              "  <thead>\n",
              "    <tr style=\"text-align: right;\">\n",
              "      <th></th>\n",
              "      <th>name</th>\n",
              "      <th>age</th>\n",
              "    </tr>\n",
              "  </thead>\n",
              "  <tbody>\n",
              "    <tr>\n",
              "      <th>0</th>\n",
              "      <td>Ali</td>\n",
              "      <td>9</td>\n",
              "    </tr>\n",
              "    <tr>\n",
              "      <th>1</th>\n",
              "      <td>Ujjwal</td>\n",
              "      <td>22</td>\n",
              "    </tr>\n",
              "  </tbody>\n",
              "</table>\n",
              "</div>"
            ],
            "text/plain": [
              "     name  age\n",
              "0     Ali    9\n",
              "1  Ujjwal   22"
            ]
          },
          "execution_count": 39,
          "metadata": {},
          "output_type": "execute_result"
        }
      ],
      "source": [
        "x={'name':['Ali','Ujjwal'],'age':[9,22]}\n",
        "d=pd.DataFrame(x)\n",
        "d"
      ]
    },
    {
      "cell_type": "code",
      "execution_count": null,
      "id": "b8b61a99",
      "metadata": {
        "id": "b8b61a99"
      },
      "outputs": [],
      "source": [
        "import matplotlib.pyplot as plt"
      ]
    },
    {
      "cell_type": "code",
      "execution_count": null,
      "id": "3abcb39e",
      "metadata": {
        "id": "3abcb39e",
        "outputId": "c0389267-b16f-407e-9d3d-6c55e3554d52"
      },
      "outputs": [
        {
          "data": {
            "text/plain": [
              "Text(0, 0.5, 'y axis')"
            ]
          },
          "execution_count": 53,
          "metadata": {},
          "output_type": "execute_result"
        },
        {
          "data": {
            "image/png": "[encoded data removed]",
            "text/plain": [
              "<Figure size 432x288 with 1 Axes>"
            ]
          },
          "metadata": {
            "needs_background": "light"
          },
          "output_type": "display_data"
        }
      ],
      "source": [
        "x=df['Roll']\n",
        "y=df['DE']\n",
        "plt.plot(x,y)\n",
        "plt.title('Marks')\n",
        "plt.xlabel('x axis')\n",
        "plt.ylabel('y axis')\n"
      ]
    },
    {
      "cell_type": "code",
      "execution_count": 75,
      "id": "2c029494",
      "metadata": {
        "id": "2c029494"
      },
      "outputs": [],
      "source": [
        "import numpy as np"
      ]
    },
    {
      "cell_type": "code",
      "execution_count": 97,
      "id": "5aaff57c",
      "metadata": {
        "id": "5aaff57c"
      },
      "outputs": [],
      "source": [
        "s=np.array([1,2,3,4,6,8])\n",
        "k=np.array([2.4,3,3.6,4,5,6])\n"
      ]
    },
    {
      "cell_type": "code",
      "execution_count": 100,
      "id": "cd351550",
      "metadata": {
        "id": "cd351550",
        "outputId": "aaf16f98-237a-4609-fc35-1527377e91fd",
        "colab": {
          "base_uri": "https://localhost:8080/"
        }
      },
      "outputs": [
        {
          "output_type": "stream",
          "name": "stdout",
          "text": [
            "130\n"
          ]
        }
      ],
      "source": [
        "s*k\n",
        "sumxy=sum(s*k)\n",
        "sumx=sum(s)\n",
        "sumy=sum(k)\n",
        "sumxx=sum(s*s)\n",
        "print(sumxx)\n"
      ]
    },
    {
      "cell_type": "code",
      "execution_count": 101,
      "id": "f95a1f22",
      "metadata": {
        "id": "f95a1f22",
        "outputId": "7e70c659-885d-473b-9eaf-996916f080e7",
        "colab": {
          "base_uri": "https://localhost:8080/"
        }
      },
      "outputs": [
        {
          "output_type": "execute_result",
          "data": {
            "text/plain": [
              "0.5058823529411767"
            ]
          },
          "metadata": {},
          "execution_count": 101
        }
      ],
      "source": [
        "m=((6*sumxy)-(sumx*sumy))/((6*sumxx)-(sumx**2))\n",
        "m"
      ]
    },
    {
      "cell_type": "code",
      "execution_count": 102,
      "id": "0108aa4a",
      "metadata": {
        "id": "0108aa4a",
        "outputId": "b74b7373-4ce9-425e-c867-3aeec150f106",
        "colab": {
          "base_uri": "https://localhost:8080/"
        }
      },
      "outputs": [
        {
          "output_type": "execute_result",
          "data": {
            "text/plain": [
              "1.9764705882352933"
            ]
          },
          "metadata": {},
          "execution_count": 102
        }
      ],
      "source": [
        "b=((sumy)-(m*sumx))/6\n",
        "b"
      ]
    },
    {
      "cell_type": "code",
      "execution_count": 119,
      "id": "56dfadb4",
      "metadata": {
        "id": "56dfadb4",
        "outputId": "250b0dc9-4392-4b20-afd6-52b15b034784",
        "colab": {
          "base_uri": "https://localhost:8080/"
        }
      },
      "outputs": [
        {
          "output_type": "execute_result",
          "data": {
            "text/plain": [
              "-3.9229956128376915"
            ]
          },
          "metadata": {},
          "execution_count": 119
        }
      ],
      "source": [
        "for i in range(s.size):\n",
        "    w=b+m*s \n",
        "w\n",
        "e=k-w\n",
        "e\n",
        "SSe=np.sum(np.square(e))\n",
        "s=0\n",
        "for i in k:\n",
        "  s+=np.square(i-np.mean(k))\n",
        "SSr=s-SSe\n",
        "SSr\n",
        "Rsq=SSr/s\n",
        "Rsq\n",
        "\n"
      ]
    },
    {
      "cell_type": "code",
      "execution_count": null,
      "id": "9876e347",
      "metadata": {
        "id": "9876e347",
        "outputId": "881e2b70-ff1c-4238-d4e8-feb93e50ecc8"
      },
      "outputs": [
        {
          "data": {
            "text/plain": [
              "<matplotlib.legend.Legend at 0x16861824fd0>"
            ]
          },
          "execution_count": 91,
          "metadata": {},
          "output_type": "execute_result"
        },
        {
          "data": {
            "image/png": "[encoded data removed]",
            "text/plain": [
              "<Figure size 432x288 with 1 Axes>"
            ]
          },
          "metadata": {
            "needs_background": "light"
          },
          "output_type": "display_data"
        }
      ],
      "source": [
        "plt.plot(s,k,s,w)\n",
        "plt.title('Linear Regression')\n",
        "plt.xlabel('X-Axis')\n",
        "plt.ylabel('Y-Axis')\n",
        "plt.legend(['before','after'])"
      ]
    },
    {
      "cell_type": "markdown",
      "source": [
        ""
      ],
      "metadata": {
        "id": "kyNAyFwxHvl2"
      },
      "id": "kyNAyFwxHvl2"
    },
    {
      "cell_type": "code",
      "execution_count": null,
      "id": "f66b7234",
      "metadata": {
        "id": "f66b7234",
        "outputId": "4235a040-0961-44be-bb94-7e0a062e782d"
      },
      "outputs": [
        {
          "data": {
            "text/plain": [
              "(9, 8)"
            ]
          },
          "execution_count": 87,
          "metadata": {},
          "output_type": "execute_result"
        }
      ],
      "source": [
        "df.shape"
      ]
    },
    {
      "cell_type": "code",
      "execution_count": null,
      "id": "b8046701",
      "metadata": {
        "id": "b8046701"
      },
      "outputs": [],
      "source": [
        "x=np.array([3,7,4,2,0,4,1,2])\n",
        "y=np.array([11,18,9,4,7,6,3,8])"
      ]
    },
    {
      "cell_type": "code",
      "execution_count": null,
      "id": "22f3871f",
      "metadata": {
        "id": "22f3871f",
        "outputId": "8eff689c-595d-4fe9-b8a0-ea4c6b332b84"
      },
      "outputs": [
        {
          "data": {
            "text/plain": [
              "7.03125"
            ]
          },
          "execution_count": 106,
          "metadata": {},
          "output_type": "execute_result"
        }
      ],
      "source": [
        "xy=x*y\n",
        "xbar=sum(x)/8\n",
        "xx=x*x\n",
        "yy=y*y\n",
        "ybar=sum(y)/8\n",
        "sumxy=sum(xy)\n",
        "covxy=((1/8)*(sumxy)-(xbar*ybar))\n",
        "covxy"
      ]
    },
    {
      "cell_type": "code",
      "execution_count": null,
      "id": "672a96ee",
      "metadata": {
        "id": "672a96ee",
        "outputId": "0f0568c9-25c2-4b09-dc64-9f1aa05f220f"
      },
      "outputs": [
        {
          "data": {
            "text/plain": [
              "2.027159342528357"
            ]
          },
          "execution_count": 105,
          "metadata": {},
          "output_type": "execute_result"
        }
      ],
      "source": [
        "sdx=(((1/8)*sum(xx))-(xbar*xbar))**(1/2)\n",
        "sdx"
      ]
    },
    {
      "cell_type": "code",
      "execution_count": null,
      "id": "7641c646",
      "metadata": {
        "id": "7641c646",
        "outputId": "2d15b90e-ad05-4c3c-a574-956afe5bff02"
      },
      "outputs": [
        {
          "data": {
            "text/plain": [
              "4.408798022137099"
            ]
          },
          "execution_count": 108,
          "metadata": {},
          "output_type": "execute_result"
        }
      ],
      "source": [
        "sdy=(((1/8)*sum(yy))-(ybar*ybar))**(1/2)\n",
        "sdy"
      ]
    },
    {
      "cell_type": "code",
      "execution_count": null,
      "id": "b873a4a9",
      "metadata": {
        "id": "b873a4a9",
        "outputId": "40325103-1381-4223-b081-7bd98f050fe3"
      },
      "outputs": [
        {
          "data": {
            "text/plain": [
              "0.7867277140983885"
            ]
          },
          "execution_count": 110,
          "metadata": {},
          "output_type": "execute_result"
        }
      ],
      "source": [
        "r=(covxy)/(sdx*sdy)\n",
        "r"
      ]
    },
    {
      "cell_type": "markdown",
      "source": [
        "One Way ANOVA classification"
      ],
      "metadata": {
        "id": "0KXHwmTEy18L"
      },
      "id": "0KXHwmTEy18L"
    },
    {
      "cell_type": "code",
      "source": [
        "import numpy as np"
      ],
      "metadata": {
        "id": "8QlYlpiQy5fz"
      },
      "id": "8QlYlpiQy5fz",
      "execution_count": null,
      "outputs": []
    },
    {
      "cell_type": "code",
      "source": [
        "a=list(map(int,input().split()))\n",
        "b=list(map(int,input().split()))\n",
        "c=list(map(int,input().split()))\n",
        "t1=np.array(a)\n",
        "t2=np.array(b)\n",
        "t3=np.array(c)\n",
        "\n",
        "\n",
        "\n"
      ],
      "metadata": {
        "colab": {
          "base_uri": "https://localhost:8080/"
        },
        "id": "iKuXkadfzRLt",
        "outputId": "de0ce396-00a5-4464-eb35-96f68405ee17"
      },
      "id": "iKuXkadfzRLt",
      "execution_count": 27,
      "outputs": [
        {
          "name": "stdout",
          "output_type": "stream",
          "text": [
            "13 10 8 11 8\n",
            "13 11 14 14\n",
            "4 1 3 4 2 4\n"
          ]
        }
      ]
    },
    {
      "cell_type": "code",
      "source": [
        "ti1=sum(t1)\n",
        "ti2=sum(t2)\n",
        "ti3=sum(t3)\n",
        "G=(ti1+ti2+ti3)\n",
        "print(G)\n",
        "sigti=(((ti1)**2/len(t1))+(ti2)**2/len(t2)+(ti3)**2/len(t3))\n",
        "round(sigti,2)"
      ],
      "metadata": {
        "colab": {
          "base_uri": "https://localhost:8080/"
        },
        "id": "Ld9SjqmF0cEB",
        "outputId": "87fd2ad6-53cc-4929-c286-0a23f6ec503c"
      },
      "id": "Ld9SjqmF0cEB",
      "execution_count": 28,
      "outputs": [
        {
          "output_type": "stream",
          "name": "stdout",
          "text": [
            "120\n"
          ]
        },
        {
          "output_type": "execute_result",
          "data": {
            "text/plain": [
              "1230.0"
            ]
          },
          "metadata": {},
          "execution_count": 28
        }
      ]
    },
    {
      "cell_type": "code",
      "source": [
        "s1=sum(t1**2)\n",
        "s2=sum(t2**2)\n",
        "s3=sum(t3**2)\n",
        "RSS=s1+s2+s3\n",
        "RSS"
      ],
      "metadata": {
        "colab": {
          "base_uri": "https://localhost:8080/"
        },
        "id": "qGZQBLa32bLN",
        "outputId": "7bc4b6ec-9ef7-4f11-f320-2f54a07ef321"
      },
      "id": "qGZQBLa32bLN",
      "execution_count": 29,
      "outputs": [
        {
          "output_type": "execute_result",
          "data": {
            "text/plain": [
              "1262"
            ]
          },
          "metadata": {},
          "execution_count": 29
        }
      ]
    },
    {
      "cell_type": "code",
      "source": [
        "N=len(t1)+len(t2)+len(t3)\n",
        "N\n",
        "CF=G**2/N\n",
        "CF"
      ],
      "metadata": {
        "colab": {
          "base_uri": "https://localhost:8080/"
        },
        "id": "uJDKkoWV3NcJ",
        "outputId": "a75228dd-b378-47ab-8533-0d76e4da061b"
      },
      "id": "uJDKkoWV3NcJ",
      "execution_count": 33,
      "outputs": [
        {
          "output_type": "execute_result",
          "data": {
            "text/plain": [
              "960.0"
            ]
          },
          "metadata": {},
          "execution_count": 33
        }
      ]
    },
    {
      "cell_type": "code",
      "source": [
        "SST=RSS-CF\n",
        "SST"
      ],
      "metadata": {
        "colab": {
          "base_uri": "https://localhost:8080/"
        },
        "id": "ZR4nJhS-3fPx",
        "outputId": "a5a3070c-c5f6-4cca-931f-5475e8f45f90"
      },
      "id": "ZR4nJhS-3fPx",
      "execution_count": 34,
      "outputs": [
        {
          "output_type": "execute_result",
          "data": {
            "text/plain": [
              "302.0"
            ]
          },
          "metadata": {},
          "execution_count": 34
        }
      ]
    },
    {
      "cell_type": "code",
      "source": [
        "SStr=sigti-CF\n",
        "SStr"
      ],
      "metadata": {
        "colab": {
          "base_uri": "https://localhost:8080/"
        },
        "id": "JbFBCTjz3k-T",
        "outputId": "e647d35b-0767-405e-a164-b37c7ec3dcca"
      },
      "id": "JbFBCTjz3k-T",
      "execution_count": 35,
      "outputs": [
        {
          "output_type": "execute_result",
          "data": {
            "text/plain": [
              "270.0"
            ]
          },
          "metadata": {},
          "execution_count": 35
        }
      ]
    },
    {
      "cell_type": "code",
      "source": [
        "SSe=SST-SStr\n",
        "SSe"
      ],
      "metadata": {
        "colab": {
          "base_uri": "https://localhost:8080/"
        },
        "id": "HKqb4Dr138aD",
        "outputId": "0383a0b9-ec05-4b04-d7d4-c23af47c4629"
      },
      "id": "HKqb4Dr138aD",
      "execution_count": 36,
      "outputs": [
        {
          "output_type": "execute_result",
          "data": {
            "text/plain": [
              "32.0"
            ]
          },
          "metadata": {},
          "execution_count": 36
        }
      ]
    },
    {
      "cell_type": "code",
      "source": [
        "import scipy.stats as s"
      ],
      "metadata": {
        "id": "GtrD53mr4EyT"
      },
      "id": "GtrD53mr4EyT",
      "execution_count": 37,
      "outputs": []
    },
    {
      "cell_type": "code",
      "source": [
        "o=s.f.ppf(0.95,2,N-2)\n",
        "round(o,2)\n"
      ],
      "metadata": {
        "colab": {
          "base_uri": "https://localhost:8080/"
        },
        "id": "FFckPqHa4ITz",
        "outputId": "3f95833e-c6e8-420e-9e0d-5d87422bbdca"
      },
      "id": "FFckPqHa4ITz",
      "execution_count": null,
      "outputs": [
        {
          "output_type": "execute_result",
          "data": {
            "text/plain": [
              "3.68"
            ]
          },
          "metadata": {},
          "execution_count": 83
        }
      ]
    },
    {
      "cell_type": "code",
      "source": [
        "import pandas as pd\n",
        "\n",
        "k=3\n",
        "sqtr=SStr/(k-1)\n",
        "sqe=SSe/(N-k)\n",
        "f=sqtr/sqe\n",
        "if f>1:\n",
        "  ff=f\n",
        "else:\n",
        "  ff=1/f\n",
        "one_way={\n",
        "'sourcevariation':['Treatements','Error','Total'],\n",
        "'sum of sqs':[SStr,SSe,SST],\n",
        "'degrees of freedom':[k-1,N-k,N-1],\n",
        "'mean of sqs':[sqtr,sqe,''],\n",
        "'Variance Ratio':['',ff,'']\n",
        "}\n",
        "d=pd.DataFrame(one_way)\n",
        "d\n",
        "\n"
      ],
      "metadata": {
        "colab": {
          "base_uri": "https://localhost:8080/",
          "height": 172
        },
        "id": "j6SK8qYQ4sBr",
        "outputId": "09008d2c-b10e-4945-e7d5-44a4c7525cd1"
      },
      "id": "j6SK8qYQ4sBr",
      "execution_count": 41,
      "outputs": [
        {
          "output_type": "execute_result",
          "data": {
            "text/plain": [
              "  sourcevariation  sum of sqs  degrees of freedom mean of sqs Variance Ratio\n",
              "0     Treatements       270.0                   2       135.0               \n",
              "1           Error        32.0                  12    2.666667         50.625\n",
              "2           Total       302.0                  14                           "
            ],
            "text/html": [
              "\n",
              "  <div id=\"df-369d9dcb-0b86-4a07-9568-e7a70f9f3aa5\">\n",
              "    <div class=\"colab-df-container\">\n",
              "      <div>\n",
              "<style scoped>\n",
              "    .dataframe tbody tr th:only-of-type {\n",
              "        vertical-align: middle;\n",
              "    }\n",
              "\n",
              "    .dataframe tbody tr th {\n",
              "        vertical-align: top;\n",
              "    }\n",
              "\n",
              "    .dataframe thead th {\n",
              "        text-align: right;\n",
              "    }\n",
              "</style>\n",
              "<table border=\"1\" class=\"dataframe\">\n",
              "  <thead>\n",
              "    <tr style=\"text-align: right;\">\n",
              "      <th></th>\n",
              "      <th>sourcevariation</th>\n",
              "      <th>sum of sqs</th>\n",
              "      <th>degrees of freedom</th>\n",
              "      <th>mean of sqs</th>\n",
              "      <th>Variance Ratio</th>\n",
              "    </tr>\n",
              "  </thead>\n",
              "  <tbody>\n",
              "    <tr>\n",
              "      <th>0</th>\n",
              "      <td>Treatements</td>\n",
              "      <td>270.0</td>\n",
              "      <td>2</td>\n",
              "      <td>135.0</td>\n",
              "      <td></td>\n",
              "    </tr>\n",
              "    <tr>\n",
              "      <th>1</th>\n",
              "      <td>Error</td>\n",
              "      <td>32.0</td>\n",
              "      <td>12</td>\n",
              "      <td>2.666667</td>\n",
              "      <td>50.625</td>\n",
              "    </tr>\n",
              "    <tr>\n",
              "      <th>2</th>\n",
              "      <td>Total</td>\n",
              "      <td>302.0</td>\n",
              "      <td>14</td>\n",
              "      <td></td>\n",
              "      <td></td>\n",
              "    </tr>\n",
              "  </tbody>\n",
              "</table>\n",
              "</div>\n",
              "      <button class=\"colab-df-convert\" onclick=\"convertToInteractive('df-369d9dcb-0b86-4a07-9568-e7a70f9f3aa5')\"\n",
              "              title=\"Convert this dataframe to an interactive table.\"\n",
              "              style=\"display:none;\">\n",
              "        \n",
              "  <svg xmlns=\"http://www.w3.org/2000/svg\" height=\"24px\"viewBox=\"0 0 24 24\"\n",
              "       width=\"24px\">\n",
              "    <path d=\"M0 0h24v24H0V0z\" fill=\"none\"/>\n",
              "    <path d=\"M18.56 5.44l.94 2.06.94-2.06 2.06-.94-2.06-.94-.94-2.06-.94 2.06-2.06.94zm-11 1L8.5 8.5l.94-2.06 2.06-.94-2.06-.94L8.5 2.5l-.94 2.06-2.06.94zm10 10l.94 2.06.94-2.06 2.06-.94-2.06-.94-.94-2.06-.94 2.06-2.06.94z\"/><path d=\"M17.41 7.96l-1.37-1.37c-.4-.4-.92-.59-1.43-.59-.52 0-1.04.2-1.43.59L10.3 9.45l-7.72 7.72c-.78.78-.78 2.05 0 2.83L4 21.41c.39.39.9.59 1.41.59.51 0 1.02-.2 1.41-.59l7.78-7.78 2.81-2.81c.8-.78.8-2.07 0-2.86zM5.41 20L4 18.59l7.72-7.72 1.47 1.35L5.41 20z\"/>\n",
              "  </svg>\n",
              "      </button>\n",
              "      \n",
              "  <style>\n",
              "    .colab-df-container {\n",
              "      display:flex;\n",
              "      flex-wrap:wrap;\n",
              "      gap: 12px;\n",
              "    }\n",
              "\n",
              "    .colab-df-convert {\n",
              "      background-color: #E8F0FE;\n",
              "      border: none;\n",
              "      border-radius: 50%;\n",
              "      cursor: pointer;\n",
              "      display: none;\n",
              "      fill: #1967D2;\n",
              "      height: 32px;\n",
              "      padding: 0 0 0 0;\n",
              "      width: 32px;\n",
              "    }\n",
              "\n",
              "    .colab-df-convert:hover {\n",
              "      background-color: #E2EBFA;\n",
              "      box-shadow: 0px 1px 2px rgba(60, 64, 67, 0.3), 0px 1px 3px 1px rgba(60, 64, 67, 0.15);\n",
              "      fill: #174EA6;\n",
              "    }\n",
              "\n",
              "    [theme=dark] .colab-df-convert {\n",
              "      background-color: #3B4455;\n",
              "      fill: #D2E3FC;\n",
              "    }\n",
              "\n",
              "    [theme=dark] .colab-df-convert:hover {\n",
              "      background-color: #434B5C;\n",
              "      box-shadow: 0px 1px 3px 1px rgba(0, 0, 0, 0.15);\n",
              "      filter: drop-shadow(0px 1px 2px rgba(0, 0, 0, 0.3));\n",
              "      fill: #FFFFFF;\n",
              "    }\n",
              "  </style>\n",
              "\n",
              "      <script>\n",
              "        const buttonEl =\n",
              "          document.querySelector('#df-369d9dcb-0b86-4a07-9568-e7a70f9f3aa5 button.colab-df-convert');\n",
              "        buttonEl.style.display =\n",
              "          google.colab.kernel.accessAllowed ? 'block' : 'none';\n",
              "\n",
              "        async function convertToInteractive(key) {\n",
              "          const element = document.querySelector('#df-369d9dcb-0b86-4a07-9568-e7a70f9f3aa5');\n",
              "          const dataTable =\n",
              "            await google.colab.kernel.invokeFunction('convertToInteractive',\n",
              "                                                     [key], {});\n",
              "          if (!dataTable) return;\n",
              "\n",
              "          const docLinkHtml = 'Like what you see? Visit the ' +\n",
              "            '<a target=\"_blank\" href=https://colab.research.google.com/notebooks/data_table.ipynb>data table notebook</a>'\n",
              "            + ' to learn more about interactive tables.';\n",
              "          element.innerHTML = '';\n",
              "          dataTable['output_type'] = 'display_data';\n",
              "          await google.colab.output.renderOutput(dataTable, element);\n",
              "          const docLink = document.createElement('div');\n",
              "          docLink.innerHTML = docLinkHtml;\n",
              "          element.appendChild(docLink);\n",
              "        }\n",
              "      </script>\n",
              "    </div>\n",
              "  </div>\n",
              "  "
            ]
          },
          "metadata": {},
          "execution_count": 41
        }
      ]
    },
    {
      "cell_type": "code",
      "source": [
        "p = 1-scipy.stats.f.cdf(ff,2,12)\n",
        "if ff<p:\n",
        "  print('accept')\n",
        "else:\n",
        "  print('reject')"
      ],
      "metadata": {
        "colab": {
          "base_uri": "https://localhost:8080/"
        },
        "id": "WGHXgp007z_t",
        "outputId": "57539c62-92ca-4dbb-9b59-938cd35c6636"
      },
      "id": "WGHXgp007z_t",
      "execution_count": 40,
      "outputs": [
        {
          "output_type": "stream",
          "name": "stdout",
          "text": [
            "reject\n"
          ]
        }
      ]
    },
    {
      "cell_type": "markdown",
      "source": [
        "Rank Correlation"
      ],
      "metadata": {
        "id": "yiQ6OccT_jnp"
      },
      "id": "yiQ6OccT_jnp"
    },
    {
      "cell_type": "code",
      "source": [
        "import numpy as np\n",
        "import scipy.stats as ss\n",
        "import pandas as pd\n"
      ],
      "metadata": {
        "id": "jF74PiAE_mD1"
      },
      "id": "jF74PiAE_mD1",
      "execution_count": 25,
      "outputs": []
    },
    {
      "cell_type": "code",
      "source": [
        "def freq(x):\n",
        "  z={}\n",
        "  for i in x:\n",
        "    if i not in z:\n",
        "      z[i]=1\n",
        "    else:\n",
        "      z[i]=z[i]+1\n",
        "    return z\n",
        "\n"
      ],
      "metadata": {
        "id": "KhcEO9JBz0vC"
      },
      "id": "KhcEO9JBz0vC",
      "execution_count": 5,
      "outputs": []
    },
    {
      "cell_type": "code",
      "source": [
        "def rank(x):\n",
        "  rank=ss.rankdata(x)\n",
        "  return len(x)-rank+1"
      ],
      "metadata": {
        "id": "o1jWiWI718Ef"
      },
      "id": "o1jWiWI718Ef",
      "execution_count": 4,
      "outputs": []
    },
    {
      "cell_type": "code",
      "source": [
        "def disq(x,y):\n",
        "  rankx=rank(x)\n",
        "  ranky=rank(y)\n",
        "  di=rankx-ranky\n",
        "  disq=di**2\n",
        "  tdisq=sum(disq)\n",
        "  #correlation factor\n",
        "  cf=0\n",
        "  for i,j in freq(x).items():\n",
        "    if j!=1:\n",
        "      cf+=j*(j**2-1)/12\n",
        "  for i,j in freq(y).items():\n",
        "    if j!=1:\n",
        "      cf+=j*(j**2-1)/12\n",
        "  tdisq+=cf\n",
        "  return [rankx,ranky,di,disq,tdisq]"
      ],
      "metadata": {
        "id": "2cJY-Wgp3uqn"
      },
      "id": "2cJY-Wgp3uqn",
      "execution_count": 18,
      "outputs": []
    },
    {
      "cell_type": "code",
      "source": [
        "def rankcorr(x,y):\n",
        "    res = disq(x,y)\n",
        "    rou = 1 - ((6*res[-1])/(n*(n**2 - 1)))\n",
        "    return round(rou,5)"
      ],
      "metadata": {
        "id": "DmvcNDtJ5-4l"
      },
      "id": "DmvcNDtJ5-4l",
      "execution_count": 9,
      "outputs": []
    },
    {
      "cell_type": "code",
      "source": [
        "x =  np.array(list(map(int,input(\"Enter x:\").split())))\n",
        "y =  np.array(list(map(int,input(\"Enter y:\").split())))\n",
        "n = len(x)"
      ],
      "metadata": {
        "colab": {
          "base_uri": "https://localhost:8080/"
        },
        "id": "HruBAcxw6DQN",
        "outputId": "064b3939-04b2-4110-dcab-594addb2b627"
      },
      "id": "HruBAcxw6DQN",
      "execution_count": 12,
      "outputs": [
        {
          "name": "stdout",
          "output_type": "stream",
          "text": [
            "Enter x:81 78 73 73 69 68 62 58\n",
            "Enter y:10 12 18 18 18 22 20 24\n"
          ]
        }
      ]
    },
    {
      "cell_type": "code",
      "source": [
        "print(x,y,n,len(y))\n"
      ],
      "metadata": {
        "colab": {
          "base_uri": "https://localhost:8080/"
        },
        "id": "_LECH5uT6X1l",
        "outputId": "2bb3a342-48ee-40cb-b069-04fda243af0d"
      },
      "id": "_LECH5uT6X1l",
      "execution_count": 14,
      "outputs": [
        {
          "output_type": "stream",
          "name": "stdout",
          "text": [
            "[81 78 73 73 69 68 62 58] [10 12 18 18 18 22 20 24] 8 8\n"
          ]
        }
      ]
    },
    {
      "cell_type": "code",
      "source": [
        "res = disq(x,y)\n",
        "res[0],x"
      ],
      "metadata": {
        "colab": {
          "base_uri": "https://localhost:8080/"
        },
        "id": "2tRzelRK6wXM",
        "outputId": "dc6ab8de-34a3-4fe0-d6d1-684e91632d24"
      },
      "id": "2tRzelRK6wXM",
      "execution_count": 20,
      "outputs": [
        {
          "output_type": "execute_result",
          "data": {
            "text/plain": [
              "(array([1. , 2. , 3.5, 3.5, 5. , 6. , 7. , 8. ]),\n",
              " array([81, 78, 73, 73, 69, 68, 62, 58]))"
            ]
          },
          "metadata": {},
          "execution_count": 20
        }
      ]
    },
    {
      "cell_type": "code",
      "source": [
        "rankcorr(x,y)"
      ],
      "metadata": {
        "colab": {
          "base_uri": "https://localhost:8080/"
        },
        "id": "aQtn--6A7K_K",
        "outputId": "b5a82ce9-af96-47e6-e413-1eb30b9169db"
      },
      "id": "aQtn--6A7K_K",
      "execution_count": 22,
      "outputs": [
        {
          "output_type": "execute_result",
          "data": {
            "text/plain": [
              "-0.89881"
            ]
          },
          "metadata": {},
          "execution_count": 22
        }
      ]
    },
    {
      "cell_type": "markdown",
      "source": [
        "TWO Way ANOVA CLASSIFICATION"
      ],
      "metadata": {
        "id": "2WVgWxDP7cod"
      },
      "id": "2WVgWxDP7cod"
    },
    {
      "cell_type": "code",
      "source": [
        "import numpy as np\n",
        "import pandas as pd\n",
        "tr=int(input(\"enter no of treatments\"))\n",
        "bl=int(input(\"enter no of blocks\"))\n",
        "print(\"enter no of entries\")\n",
        "l=list(map(int,input().split()))\n",
        "matrix=np.array(l).reshape(tr,bl)\n",
        "print(matrix)\n"
      ],
      "metadata": {
        "colab": {
          "base_uri": "https://localhost:8080/"
        },
        "id": "QGQK2j9o7g4u",
        "outputId": "374c9ef4-22e8-4f0d-c1ce-e00788dabd60"
      },
      "id": "QGQK2j9o7g4u",
      "execution_count": 63,
      "outputs": [
        {
          "output_type": "stream",
          "name": "stdout",
          "text": [
            "enter no of treatments3\n",
            "enter no of blocks4\n",
            "enter no of entries\n",
            "13 7 9 3 6 6 3 1 11 5 15 5\n",
            "[[13  7  9  3]\n",
            " [ 6  6  3  1]\n",
            " [11  5 15  5]]\n"
          ]
        }
      ]
    },
    {
      "cell_type": "code",
      "source": [
        "from matplotlib import axis\n",
        "t1,t1sq,b1,b1sq=[],[],[],[]\n",
        "t1.append(np.sum(matrix,axis=1))\n",
        "t1sq.append(np.square(t1))\n",
        "b1.append(np.sum(matrix,axis=0))\n",
        "b1sq.append(np.square(b1))\n"
      ],
      "metadata": {
        "id": "dQKk6CQEBBII"
      },
      "id": "dQKk6CQEBBII",
      "execution_count": 64,
      "outputs": []
    },
    {
      "cell_type": "code",
      "source": [
        "RSS=np.sum(np.square(matrix))\n",
        "CF=np.square(np.sum(t1))/(tr*bl)\n",
        "SST=RSS-CF\n",
        "SStr=(np.sum(np.square(t1))/bl)-CF\n",
        "SSb=(np.sum(np.square(b1))/tr)-CF\n",
        "SSe=SST-SStr-SSb"
      ],
      "metadata": {
        "id": "CAt6xyILC0xW"
      },
      "id": "CAt6xyILC0xW",
      "execution_count": 65,
      "outputs": []
    },
    {
      "cell_type": "code",
      "source": [
        "k=SStr/(tr-1)\n",
        "j=SSb/(bl-1)\n",
        "a=SSe/(tr+bl-1)\n",
        "df={\n",
        "    'source of variation':['Treatment','Blocks','Error'],\n",
        "    'sum os squares':[SStr,SSb,SSe],\n",
        "    'degrees of freedom':[tr-1,bl-1,tr+bl-1],\n",
        "    'mean sum of squares':[k,j,a],\n",
        "    'Variance Ratio':[k/a,j/a,'']\n",
        "}\n"
      ],
      "metadata": {
        "id": "W7NVDX_TE0_r"
      },
      "id": "W7NVDX_TE0_r",
      "execution_count": 71,
      "outputs": []
    },
    {
      "cell_type": "code",
      "source": [
        "s=pd.DataFrame(df)\n",
        "s"
      ],
      "metadata": {
        "colab": {
          "base_uri": "https://localhost:8080/",
          "height": 143
        },
        "id": "4FBqKIXlGqxY",
        "outputId": "6b14ac63-5bbb-489f-caf6-046e363286a7"
      },
      "id": "4FBqKIXlGqxY",
      "execution_count": 72,
      "outputs": [
        {
          "output_type": "execute_result",
          "data": {
            "text/plain": [
              "  source of variation  sum os squares  degrees of freedom  \\\n",
              "0           Treatment            56.0                   2   \n",
              "1              Blocks            90.0                   3   \n",
              "2               Error            52.0                   6   \n",
              "\n",
              "   mean sum of squares Variance Ratio  \n",
              "0            28.000000       3.230769  \n",
              "1            30.000000       3.461538  \n",
              "2             8.666667                 "
            ],
            "text/html": [
              "\n",
              "  <div id=\"df-6edfadc1-dcb8-4905-a3e3-dc374afa9e5a\">\n",
              "    <div class=\"colab-df-container\">\n",
              "      <div>\n",
              "<style scoped>\n",
              "    .dataframe tbody tr th:only-of-type {\n",
              "        vertical-align: middle;\n",
              "    }\n",
              "\n",
              "    .dataframe tbody tr th {\n",
              "        vertical-align: top;\n",
              "    }\n",
              "\n",
              "    .dataframe thead th {\n",
              "        text-align: right;\n",
              "    }\n",
              "</style>\n",
              "<table border=\"1\" class=\"dataframe\">\n",
              "  <thead>\n",
              "    <tr style=\"text-align: right;\">\n",
              "      <th></th>\n",
              "      <th>source of variation</th>\n",
              "      <th>sum os squares</th>\n",
              "      <th>degrees of freedom</th>\n",
              "      <th>mean sum of squares</th>\n",
              "      <th>Variance Ratio</th>\n",
              "    </tr>\n",
              "  </thead>\n",
              "  <tbody>\n",
              "    <tr>\n",
              "      <th>0</th>\n",
              "      <td>Treatment</td>\n",
              "      <td>56.0</td>\n",
              "      <td>2</td>\n",
              "      <td>28.000000</td>\n",
              "      <td>3.230769</td>\n",
              "    </tr>\n",
              "    <tr>\n",
              "      <th>1</th>\n",
              "      <td>Blocks</td>\n",
              "      <td>90.0</td>\n",
              "      <td>3</td>\n",
              "      <td>30.000000</td>\n",
              "      <td>3.461538</td>\n",
              "    </tr>\n",
              "    <tr>\n",
              "      <th>2</th>\n",
              "      <td>Error</td>\n",
              "      <td>52.0</td>\n",
              "      <td>6</td>\n",
              "      <td>8.666667</td>\n",
              "      <td></td>\n",
              "    </tr>\n",
              "  </tbody>\n",
              "</table>\n",
              "</div>\n",
              "      <button class=\"colab-df-convert\" onclick=\"convertToInteractive('df-6edfadc1-dcb8-4905-a3e3-dc374afa9e5a')\"\n",
              "              title=\"Convert this dataframe to an interactive table.\"\n",
              "              style=\"display:none;\">\n",
              "        \n",
              "  <svg xmlns=\"http://www.w3.org/2000/svg\" height=\"24px\"viewBox=\"0 0 24 24\"\n",
              "       width=\"24px\">\n",
              "    <path d=\"M0 0h24v24H0V0z\" fill=\"none\"/>\n",
              "    <path d=\"M18.56 5.44l.94 2.06.94-2.06 2.06-.94-2.06-.94-.94-2.06-.94 2.06-2.06.94zm-11 1L8.5 8.5l.94-2.06 2.06-.94-2.06-.94L8.5 2.5l-.94 2.06-2.06.94zm10 10l.94 2.06.94-2.06 2.06-.94-2.06-.94-.94-2.06-.94 2.06-2.06.94z\"/><path d=\"M17.41 7.96l-1.37-1.37c-.4-.4-.92-.59-1.43-.59-.52 0-1.04.2-1.43.59L10.3 9.45l-7.72 7.72c-.78.78-.78 2.05 0 2.83L4 21.41c.39.39.9.59 1.41.59.51 0 1.02-.2 1.41-.59l7.78-7.78 2.81-2.81c.8-.78.8-2.07 0-2.86zM5.41 20L4 18.59l7.72-7.72 1.47 1.35L5.41 20z\"/>\n",
              "  </svg>\n",
              "      </button>\n",
              "      \n",
              "  <style>\n",
              "    .colab-df-container {\n",
              "      display:flex;\n",
              "      flex-wrap:wrap;\n",
              "      gap: 12px;\n",
              "    }\n",
              "\n",
              "    .colab-df-convert {\n",
              "      background-color: #E8F0FE;\n",
              "      border: none;\n",
              "      border-radius: 50%;\n",
              "      cursor: pointer;\n",
              "      display: none;\n",
              "      fill: #1967D2;\n",
              "      height: 32px;\n",
              "      padding: 0 0 0 0;\n",
              "      width: 32px;\n",
              "    }\n",
              "\n",
              "    .colab-df-convert:hover {\n",
              "      background-color: #E2EBFA;\n",
              "      box-shadow: 0px 1px 2px rgba(60, 64, 67, 0.3), 0px 1px 3px 1px rgba(60, 64, 67, 0.15);\n",
              "      fill: #174EA6;\n",
              "    }\n",
              "\n",
              "    [theme=dark] .colab-df-convert {\n",
              "      background-color: #3B4455;\n",
              "      fill: #D2E3FC;\n",
              "    }\n",
              "\n",
              "    [theme=dark] .colab-df-convert:hover {\n",
              "      background-color: #434B5C;\n",
              "      box-shadow: 0px 1px 3px 1px rgba(0, 0, 0, 0.15);\n",
              "      filter: drop-shadow(0px 1px 2px rgba(0, 0, 0, 0.3));\n",
              "      fill: #FFFFFF;\n",
              "    }\n",
              "  </style>\n",
              "\n",
              "      <script>\n",
              "        const buttonEl =\n",
              "          document.querySelector('#df-6edfadc1-dcb8-4905-a3e3-dc374afa9e5a button.colab-df-convert');\n",
              "        buttonEl.style.display =\n",
              "          google.colab.kernel.accessAllowed ? 'block' : 'none';\n",
              "\n",
              "        async function convertToInteractive(key) {\n",
              "          const element = document.querySelector('#df-6edfadc1-dcb8-4905-a3e3-dc374afa9e5a');\n",
              "          const dataTable =\n",
              "            await google.colab.kernel.invokeFunction('convertToInteractive',\n",
              "                                                     [key], {});\n",
              "          if (!dataTable) return;\n",
              "\n",
              "          const docLinkHtml = 'Like what you see? Visit the ' +\n",
              "            '<a target=\"_blank\" href=https://colab.research.google.com/notebooks/data_table.ipynb>data table notebook</a>'\n",
              "            + ' to learn more about interactive tables.';\n",
              "          element.innerHTML = '';\n",
              "          dataTable['output_type'] = 'display_data';\n",
              "          await google.colab.output.renderOutput(dataTable, element);\n",
              "          const docLink = document.createElement('div');\n",
              "          docLink.innerHTML = docLinkHtml;\n",
              "          element.appendChild(docLink);\n",
              "        }\n",
              "      </script>\n",
              "    </div>\n",
              "  </div>\n",
              "  "
            ]
          },
          "metadata": {},
          "execution_count": 72
        }
      ]
    },
    {
      "cell_type": "code",
      "source": [
        "f_tr=ss.f.ppf(0.99,)"
      ],
      "metadata": {
        "id": "sKEbyT2mOgQr"
      },
      "id": "sKEbyT2mOgQr",
      "execution_count": null,
      "outputs": []
    }
  ],
  "metadata": {
    "kernelspec": {
      "display_name": "Python 3 (ipykernel)",
      "language": "python",
      "name": "python3"
    },
    "language_info": {
      "codemirror_mode": {
        "name": "ipython",
        "version": 3
      },
      "file_extension": ".py",
      "mimetype": "text/x-python",
      "name": "python",
      "nbconvert_exporter": "python",
      "pygments_lexer": "ipython3",
      "version": "3.9.7"
    },
    "colab": {
      "name": "Computationl Statistic.ipynb",
      "provenance": [],
      "collapsed_sections": [],
      "include_colab_link": true
    }
  },
  "nbformat": 4,
  "nbformat_minor": 5
}