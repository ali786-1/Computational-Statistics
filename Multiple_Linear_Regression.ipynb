{
  "nbformat": 4,
  "nbformat_minor": 0,
  "metadata": {
    "colab": {
      "provenance": [],
      "authorship_tag": "ABX9TyM+3/eoXpzmADzub9Etkvo2",
      "include_colab_link": true
    },
    "kernelspec": {
      "name": "python3",
      "display_name": "Python 3"
    },
    "language_info": {
      "name": "python"
    }
  },
  "cells": [
    {
      "cell_type": "markdown",
      "metadata": {
        "id": "view-in-github",
        "colab_type": "text"
      },
      "source": [
        "<a href=\"https://colab.research.google.com/github/ali786-1/Computational-Statistics/blob/main/Multiple_Linear_Regression.ipynb\" target=\"_parent\"><img src=\"https://colab.research.google.com/assets/colab-badge.svg\" alt=\"Open In Colab\"/></a>"
      ]
    },
    {
      "cell_type": "code",
      "execution_count": null,
      "metadata": {
        "id": "lnTMmQy1CLgR"
      },
      "outputs": [],
      "source": [
        "import numpy as np\n",
        "import pandas as pd\n"
      ]
    },
    {
      "cell_type": "markdown",
      "source": [
        " "
      ],
      "metadata": {
        "id": "Kplh6r1HCPBo"
      }
    },
    {
      "cell_type": "code",
      "source": [
        "#y=np.array(list(map(int,input().split())))\n",
        "a=np.array(list(map(int,input().split())))\n",
        "b=np.array(list(map(int,input().split())))\n",
        "c=np.array(list(map(int,input().split())))\n",
        "xt=np.array([a,b,c])\n",
        "print(xt)\n",
        "x=np.transpose(xt)\n",
        "print(x)\n",
        "\n"
      ],
      "metadata": {
        "colab": {
          "base_uri": "https://localhost:8080/"
        },
        "id": "SVsxILLFDSc5",
        "outputId": "d357003b-e76a-4922-960f-5dbcc9df21a4"
      },
      "execution_count": null,
      "outputs": [
        {
          "output_type": "stream",
          "name": "stdout",
          "text": [
            "1 1 1 1 1 1 1 1 1 1 1 1\n",
            "9 8 7 14 12 10 7 4 6 5 7 6\n",
            "62 58 64 60 63 57 55 56 59 61 57 60\n",
            "[[ 1  1  1  1  1  1  1  1  1  1  1  1]\n",
            " [ 9  8  7 14 12 10  7  4  6  5  7  6]\n",
            " [62 58 64 60 63 57 55 56 59 61 57 60]]\n",
            "[[ 1  9 62]\n",
            " [ 1  8 58]\n",
            " [ 1  7 64]\n",
            " [ 1 14 60]\n",
            " [ 1 12 63]\n",
            " [ 1 10 57]\n",
            " [ 1  7 55]\n",
            " [ 1  4 56]\n",
            " [ 1  6 59]\n",
            " [ 1  5 61]\n",
            " [ 1  7 57]\n",
            " [ 1  6 60]]\n"
          ]
        }
      ]
    },
    {
      "cell_type": "code",
      "source": [
        "r=np.dot(xt,x)\n",
        "print(r)\n"
      ],
      "metadata": {
        "colab": {
          "base_uri": "https://localhost:8080/"
        },
        "id": "0yfYo3x2H-In",
        "outputId": "96caad70-fb21-411c-b69d-3b40f01cba75"
      },
      "execution_count": null,
      "outputs": [
        {
          "output_type": "stream",
          "name": "stdout",
          "text": [
            "[[   12    95   712]\n",
            " [   95   845  5663]\n",
            " [  712  5663 42334]]\n"
          ]
        }
      ]
    },
    {
      "cell_type": "code",
      "source": [
        "invxtx=np.linalg.inv(r)\n",
        "print(invxtx)"
      ],
      "metadata": {
        "colab": {
          "base_uri": "https://localhost:8080/"
        },
        "id": "GxZ8QXNFKhQ9",
        "outputId": "dafdae7d-48a7-42ba-a34c-87423395f876"
      },
      "execution_count": null,
      "outputs": [
        {
          "output_type": "stream",
          "name": "stdout",
          "text": [
            "[[ 4.08944026e+01  1.14046520e-01 -7.03043891e-01]\n",
            " [ 1.14046520e-01  1.17514524e-02 -3.49009300e-03]\n",
            " [-7.03043891e-01 -3.49009300e-03  1.23147269e-02]]\n",
            "[40.8944026   0.11404652 -0.70304389]\n"
          ]
        }
      ]
    },
    {
      "cell_type": "code",
      "source": [
        "y=np.array(list(map(int,input().split())))\n"
      ],
      "metadata": {
        "colab": {
          "base_uri": "https://localhost:8080/"
        },
        "id": "VMD4evtxLBFG",
        "outputId": "e39b1daa-da84-43b7-cf5f-f9930c0244c4"
      },
      "execution_count": null,
      "outputs": [
        {
          "name": "stdout",
          "output_type": "stream",
          "text": [
            "100 110 105 94 95 99 104 108 105 98 105 110\n"
          ]
        }
      ]
    },
    {
      "cell_type": "code",
      "source": [
        "xty=np.dot(xt,y)\n",
        "xtyy=np.transpose(xty)\n",
        "beta=np.dot(invxtx,xtyy)\n",
        "print(beta)"
      ],
      "metadata": {
        "id": "5YmlZp83Luk9",
        "colab": {
          "base_uri": "https://localhost:8080/"
        },
        "outputId": "ff0b687d-0d2b-41c2-d92e-8c26b63a287b"
      },
      "execution_count": null,
      "outputs": [
        {
          "output_type": "stream",
          "name": "stdout",
          "text": [
            "[133.46048243  -1.24850346  -0.35100837]\n"
          ]
        }
      ]
    },
    {
      "cell_type": "code",
      "source": [
        "yi=beta[0]+beta[1]*b+beta[2]*c\n",
        "print(yi)"
      ],
      "metadata": {
        "colab": {
          "base_uri": "https://localhost:8080/"
        },
        "id": "hFqLYYoNRpSH",
        "outputId": "e091900a-da4b-4dcd-e0eb-b70f7516c1e0"
      },
      "execution_count": null,
      "outputs": [
        {
          "output_type": "stream",
          "name": "stdout",
          "text": [
            "[100.46143226 103.11396921 102.25642243  94.92093172  96.36491352\n",
            " 100.96797067 105.41549778 108.80999978 105.25996775 105.80645446\n",
            " 104.71348104 104.90895938]\n"
          ]
        }
      ]
    },
    {
      "cell_type": "code",
      "source": [
        "err=np.subtract(y,yi)\n",
        "sse=np.sum(np.dot(err,err))\n",
        "print(sse)\n",
        "para_3={\n",
        "    'observed':y.transpose(),\n",
        "    'calculated':yi.transpose(),\n",
        "    'error':(y-yi).transpose()\n",
        "}"
      ],
      "metadata": {
        "colab": {
          "base_uri": "https://localhost:8080/"
        },
        "id": "qkD1WChPTmr1",
        "outputId": "7d3eee64-18ca-4426-f071-210088c4fea2"
      },
      "execution_count": null,
      "outputs": [
        {
          "output_type": "stream",
          "name": "stdout",
          "text": [
            "151.41040622031764\n"
          ]
        }
      ]
    },
    {
      "cell_type": "code",
      "source": [
        "ybar=np.mean(y)\n",
        "SST=np.sum(np.square(np.subtract(y,ybar)))\n",
        "SST"
      ],
      "metadata": {
        "colab": {
          "base_uri": "https://localhost:8080/"
        },
        "id": "rrakh0hhUkZy",
        "outputId": "1ad3e53b-2b8e-4e28-a9b2-f65c31e9c3c1"
      },
      "execution_count": null,
      "outputs": [
        {
          "output_type": "execute_result",
          "data": {
            "text/plain": [
              "330.25"
            ]
          },
          "metadata": {},
          "execution_count": 24
        }
      ]
    },
    {
      "cell_type": "code",
      "source": [
        "SSr=SST-sse\n",
        "SSr\n"
      ],
      "metadata": {
        "colab": {
          "base_uri": "https://localhost:8080/"
        },
        "id": "MylJNlGUU_EZ",
        "outputId": "8a8398fe-5b6e-49c7-ec22-660d7aa273dd"
      },
      "execution_count": null,
      "outputs": [
        {
          "output_type": "execute_result",
          "data": {
            "text/plain": [
              "178.83959377968236"
            ]
          },
          "metadata": {},
          "execution_count": 25
        }
      ]
    },
    {
      "cell_type": "code",
      "source": [
        "Coeff_det=SSr/SST\n",
        "if Coeff_det>0.90:\n",
        "  print('Accept')\n",
        "else:\n",
        "  print(\"reject\")"
      ],
      "metadata": {
        "colab": {
          "base_uri": "https://localhost:8080/"
        },
        "id": "eWa6RlBTVKJp",
        "outputId": "88291228-6808-469b-8411-99fc3e61fdb5"
      },
      "execution_count": null,
      "outputs": [
        {
          "output_type": "stream",
          "name": "stdout",
          "text": [
            "reject\n"
          ]
        }
      ]
    },
    {
      "cell_type": "markdown",
      "source": [
        "Anova\n"
      ],
      "metadata": {
        "id": "QNg0al6YVZVa"
      }
    },
    {
      "cell_type": "code",
      "source": [
        "k=3\n",
        "n=12\n",
        "f=(SSr/(k-1))/(sse/(n-k))\n",
        "an={\n",
        "    'source of variation':['regression','error','total'],\n",
        "    'sum of squares':[SSr,sse,SST],\n",
        "    'degree of freedom':[k-1,n-k,n-1],\n",
        "    'mean sum of squares':[SSr/(k-1),sse/(n-k),''],\n",
        "    'variance Ratio':['',f,'']\n",
        "}"
      ],
      "metadata": {
        "id": "XkigSZYeVgL3"
      },
      "execution_count": null,
      "outputs": []
    },
    {
      "cell_type": "code",
      "source": [
        "a=pd.DataFrame(an)\n",
        "d=pd.DataFrame(para_3)\n",
        "print(a)\n",
        "print(d)"
      ],
      "metadata": {
        "colab": {
          "base_uri": "https://localhost:8080/"
        },
        "id": "S3RDOAwsWoNw",
        "outputId": "0733ad21-0d83-409e-a12d-236d6fd2b3ce"
      },
      "execution_count": null,
      "outputs": [
        {
          "output_type": "stream",
          "name": "stdout",
          "text": [
            "  source of variation  sum of squares  degree of freedom mean sum of squares  \\\n",
            "0          regression      178.839594                  2           89.419797   \n",
            "1               error      151.410406                  9           16.823378   \n",
            "2               total      330.250000                 11                       \n",
            "\n",
            "  variance Ratio  \n",
            "0                 \n",
            "1        5.31521  \n",
            "2                 \n",
            "    observed  calculated     error\n",
            "0        100  100.461432 -0.461432\n",
            "1        110  103.113969  6.886031\n",
            "2        105  102.256422  2.743578\n",
            "3         94   94.920932 -0.920932\n",
            "4         95   96.364914 -1.364914\n",
            "5         99  100.967971 -1.967971\n",
            "6        104  105.415498 -1.415498\n",
            "7        108  108.810000 -0.810000\n",
            "8        105  105.259968 -0.259968\n",
            "9         98  105.806454 -7.806454\n",
            "10       105  104.713481  0.286519\n",
            "11       110  104.908959  5.091041\n"
          ]
        }
      ]
    },
    {
      "cell_type": "code",
      "source": [
        "import scipy.stats\n",
        "p = 1-scipy.stats.f.cdf(f,k-1,n-k)\n",
        "if f<p:\n",
        "  print(\"accept\")\n",
        "else:\n",
        "  print('reject')\n"
      ],
      "metadata": {
        "colab": {
          "base_uri": "https://localhost:8080/"
        },
        "id": "4j1_3x6RWxyo",
        "outputId": "ebaa0d49-1514-45f6-d197-39a67a7d625b"
      },
      "execution_count": null,
      "outputs": [
        {
          "output_type": "stream",
          "name": "stdout",
          "text": [
            "reject\n"
          ]
        }
      ]
    },
    {
      "cell_type": "markdown",
      "source": [
        "Test For Individual Parameters"
      ],
      "metadata": {
        "id": "OY5DgXYqKYH9"
      }
    },
    {
      "cell_type": "markdown",
      "source": [],
      "metadata": {
        "id": "zdnlh7XMMntu"
      }
    },
    {
      "cell_type": "code",
      "source": [
        "import scipy.stats as ss\n",
        "mse2=sse/9\n",
        "seb0=np.sqrt(invxtx[0][0]*mse2)\n",
        "seb1=np.sqrt(invxtx[1][1]*mse2)\n",
        "seb2=np.sqrt(invxtx[2][2]*mse2)\n",
        "tcb0=beta[0]/seb0\n",
        "tcb1=beta[1]/seb1\n",
        "tcb2=beta[2]/seb2\n",
        "dt={\n",
        "    \"Predictor\":['B0','B1','B2'],\n",
        "    \"Coefficient\":[beta[0],beta[1],beta[2]],\n",
        "    \"Standard Error\":[seb0,seb1,seb2],\n",
        "    \"t\":[beta[0]/seb0,beta[1]/seb1,beta[2]/seb2]\n",
        "}\n",
        "print(pd.DataFrame(dt))"
      ],
      "metadata": {
        "colab": {
          "base_uri": "https://localhost:8080/"
        },
        "id": "r9Sk4rwiKZsa",
        "outputId": "2855afc6-4cbc-4dfe-db89-4adc9941f55f"
      },
      "execution_count": null,
      "outputs": [
        {
          "output_type": "stream",
          "name": "stdout",
          "text": [
            "  Predictor  Coefficient  Standard Error         t\n",
            "0        B0   133.460482       26.229411  5.088200\n",
            "1        B1    -1.248503        0.444634 -2.807937\n",
            "2        B2    -0.351008        0.455165 -0.771167\n"
          ]
        }
      ]
    },
    {
      "cell_type": "code",
      "source": [
        "los=0.05\n",
        "ttab=ss.t.ppf(1-los/2,9)\n"
      ],
      "metadata": {
        "id": "XN9k6CwbPYXw"
      },
      "execution_count": null,
      "outputs": []
    },
    {
      "cell_type": "code",
      "source": [
        "for i in range(len(dt['t'])):\n",
        "  if abs(dt['t'][i])<ttab:\n",
        "    print(f'B {i} is not contributing to model')\n",
        "  else:\n",
        "    print(f'B {i} is contibuting to model')\n"
      ],
      "metadata": {
        "colab": {
          "base_uri": "https://localhost:8080/"
        },
        "id": "sr9FL3a9QDmC",
        "outputId": "00e82cac-954b-47ef-cad8-a9d7d52077f0"
      },
      "execution_count": null,
      "outputs": [
        {
          "output_type": "stream",
          "name": "stdout",
          "text": [
            "B 0 is contibuting to model\n",
            "B 1 is contibuting to model\n",
            "B 2 is not contributing to model\n"
          ]
        }
      ]
    },
    {
      "cell_type": "code",
      "source": [
        "xx=np.array(list(map(int,input().split()))).reshape(3,3)\n",
        "\n",
        "\n"
      ],
      "metadata": {
        "colab": {
          "base_uri": "https://localhost:8080/"
        },
        "id": "uOZBibykczGy",
        "outputId": "7a7e5c5d-ad23-47a6-e7c4-6e2ebd5df51c"
      },
      "execution_count": null,
      "outputs": [
        {
          "output_type": "stream",
          "name": "stdout",
          "text": [
            "1 2 3 4 5 6 7 8 9\n",
            "[[ 1  8 21]\n",
            " [ 8 25 48]\n",
            " [21 48 81]]\n"
          ]
        }
      ]
    },
    {
      "cell_type": "code",
      "source": [
        "# 1 9 62 1 8 58 1 7 64 \n",
        "# 1 1 1 1 1 1 1 1 1 1 1 1\n",
        "# 9 8 7 14 12 10 7 4 6 5 7 6\n",
        "# 62 58 64 60 63 57 55 56 59 61 57 60\n"
      ],
      "metadata": {
        "id": "IcyjMZx0dl8h"
      },
      "execution_count": null,
      "outputs": []
    },
    {
      "cell_type": "code",
      "source": [
        "def trans(m):\n",
        "  x=m.shape\n",
        "  mt=np.zeros(x,int)\n",
        "  for i in range(len(m[0])):\n",
        "    for j in range(len(m[0])):\n",
        "      mt[i][j]=m[j][i]\n",
        "  return mt\n"
      ],
      "metadata": {
        "id": "wuAj5HR2-8Ld"
      },
      "execution_count": null,
      "outputs": []
    },
    {
      "cell_type": "code",
      "source": [
        "m_t=trans(xx)\n",
        "print(m_t)\n",
        "print(xx)"
      ],
      "metadata": {
        "colab": {
          "base_uri": "https://localhost:8080/"
        },
        "id": "nN_XNY9uUwOm",
        "outputId": "d444e878-08f0-4e44-ae67-6b809a4ea9d1"
      },
      "execution_count": null,
      "outputs": [
        {
          "output_type": "stream",
          "name": "stdout",
          "text": [
            "[[1 4 7]\n",
            " [2 5 8]\n",
            " [3 6 9]]\n",
            "[[1 2 3]\n",
            " [4 5 6]\n",
            " [7 8 9]]\n"
          ]
        }
      ]
    },
    {
      "cell_type": "code",
      "source": [
        "def det_(m):\n",
        "  return \n"
      ],
      "metadata": {
        "id": "mh8Ft-_tV4mO"
      },
      "execution_count": null,
      "outputs": []
    },
    {
      "cell_type": "code",
      "source": [
        "\n"
      ],
      "metadata": {
        "id": "OCryzXGCXICT"
      },
      "execution_count": null,
      "outputs": []
    }
  ]
}