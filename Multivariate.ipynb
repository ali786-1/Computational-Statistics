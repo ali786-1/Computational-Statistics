{
  "nbformat": 4,
  "nbformat_minor": 0,
  "metadata": {
    "colab": {
      "name": "Multivariate.ipynb",
      "provenance": [],
      "authorship_tag": "ABX9TyMYN/0mBemGI4YvkA0muopJ",
      "include_colab_link": true
    },
    "kernelspec": {
      "name": "python3",
      "display_name": "Python 3"
    },
    "language_info": {
      "name": "python"
    }
  },
  "cells": [
    {
      "cell_type": "markdown",
      "metadata": {
        "id": "view-in-github",
        "colab_type": "text"
      },
      "source": [
        "<a href=\"https://colab.research.google.com/github/ali786-1/Computational-Statistics/blob/main/Multivariate.ipynb\" target=\"_parent\"><img src=\"https://colab.research.google.com/assets/colab-badge.svg\" alt=\"Open In Colab\"/></a>"
      ]
    },
    {
      "cell_type": "code",
      "execution_count": null,
      "metadata": {
        "id": "lnTMmQy1CLgR"
      },
      "outputs": [],
      "source": [
        "import numpy as np\n",
        "import pandas as pd\n"
      ]
    },
    {
      "cell_type": "markdown",
      "source": [
        " "
      ],
      "metadata": {
        "id": "Kplh6r1HCPBo"
      }
    },
    {
      "cell_type": "code",
      "source": [
        "#y=np.array(list(map(int,input().split())))\n",
        "a=np.array(list(map(int,input().split())))\n",
        "b=np.array(list(map(int,input().split())))\n",
        "c=np.array(list(map(int,input().split())))\n",
        "xt=np.array([a,b,c])\n",
        "print(xt)\n",
        "x=np.transpose(xt)\n",
        "print(x)\n",
        "\n"
      ],
      "metadata": {
        "colab": {
          "base_uri": "https://localhost:8080/"
        },
        "id": "SVsxILLFDSc5",
        "outputId": "92009be6-87af-4b7c-a772-074460653bb9"
      },
      "execution_count": null,
      "outputs": [
        {
          "output_type": "stream",
          "name": "stdout",
          "text": [
            "1 1 1 1 1 1 1 1 1 1 1 1\n",
            "9 8 7 14 12 10 7 4 6 5 7 6\n",
            "62 58 64 60 63 57 55 56 59 61 57 60\n",
            "[[ 1  9 62]\n",
            " [ 1  8 58]\n",
            " [ 1  7 64]\n",
            " [ 1 14 60]\n",
            " [ 1 12 63]\n",
            " [ 1 10 57]\n",
            " [ 1  7 65]\n",
            " [ 1  4 56]\n",
            " [ 1  6 59]\n",
            " [ 1  5 61]\n",
            " [ 1  7 57]\n",
            " [ 1  6 60]]\n",
            "[[ 1  1  1  1  1  1  1  1  1  1  1  1]\n",
            " [ 9  8  7 14 12 10  7  4  6  5  7  6]\n",
            " [62 58 64 60 63 57 55 56 59 61 57 60]]\n"
          ]
        }
      ]
    },
    {
      "cell_type": "code",
      "source": [
        "r=np.dot(xt,x)\n",
        "print(r)\n"
      ],
      "metadata": {
        "colab": {
          "base_uri": "https://localhost:8080/"
        },
        "id": "0yfYo3x2H-In",
        "outputId": "34d8dd34-1f42-46ff-8280-f187e6e185e3"
      },
      "execution_count": null,
      "outputs": [
        {
          "output_type": "stream",
          "name": "stdout",
          "text": [
            "[[   12    95   712]\n",
            " [   95   845  5663]\n",
            " [  712  5663 42334]]\n"
          ]
        }
      ]
    },
    {
      "cell_type": "code",
      "source": [
        "invxtx=np.linalg.inv(r)\n",
        "print(invxtx)"
      ],
      "metadata": {
        "colab": {
          "base_uri": "https://localhost:8080/"
        },
        "id": "GxZ8QXNFKhQ9",
        "outputId": "86fb788c-882c-46cb-a5b7-af6dc592db0b"
      },
      "execution_count": null,
      "outputs": [
        {
          "output_type": "stream",
          "name": "stdout",
          "text": [
            "[[ 4.08944026e+01  1.14046520e-01 -7.03043891e-01]\n",
            " [ 1.14046520e-01  1.17514524e-02 -3.49009300e-03]\n",
            " [-7.03043891e-01 -3.49009300e-03  1.23147269e-02]]\n"
          ]
        }
      ]
    },
    {
      "cell_type": "code",
      "source": [
        "y=np.array(list(map(int,input().split())))\n"
      ],
      "metadata": {
        "colab": {
          "base_uri": "https://localhost:8080/"
        },
        "id": "VMD4evtxLBFG",
        "outputId": "0c25790c-db04-4be5-b38d-e34d30a97ce1"
      },
      "execution_count": null,
      "outputs": [
        {
          "name": "stdout",
          "output_type": "stream",
          "text": [
            "100 110 105 94 95 99 104 108 105 98 105 110\n"
          ]
        }
      ]
    },
    {
      "cell_type": "code",
      "source": [
        "xty=np.dot(xt,y)\n",
        "xtyy=np.transpose(xty)\n",
        "beta=np.dot(invxtx,xtyy)\n",
        "print(beta)"
      ],
      "metadata": {
        "id": "5YmlZp83Luk9",
        "colab": {
          "base_uri": "https://localhost:8080/"
        },
        "outputId": "008ffe72-2088-4b6e-99e5-e5431c915669"
      },
      "execution_count": 46,
      "outputs": [
        {
          "output_type": "stream",
          "name": "stdout",
          "text": [
            "[133.46048243  -1.24850346  -0.35100837]\n"
          ]
        }
      ]
    },
    {
      "cell_type": "code",
      "source": [
        "yi=beta[0]+beta[1]*b+beta[2]*c\n",
        "print(yi)"
      ],
      "metadata": {
        "colab": {
          "base_uri": "https://localhost:8080/"
        },
        "id": "hFqLYYoNRpSH",
        "outputId": "305875d6-0a81-44c5-c32c-fe2f69e8403c"
      },
      "execution_count": 50,
      "outputs": [
        {
          "output_type": "stream",
          "name": "stdout",
          "text": [
            "[100.46143226 103.11396921 102.25642243  94.92093172  96.36491352\n",
            " 100.96797067 105.41549778 108.80999978 105.25996775 105.80645446\n",
            " 104.71348104 104.90895938]\n"
          ]
        }
      ]
    },
    {
      "cell_type": "code",
      "source": [
        "err=np.subtract(y,yi)\n",
        "sse=np.sum(np.dot(err,err))\n",
        "print(sse)\n",
        "para_3={\n",
        "    'observed':y.transpose(),\n",
        "    'calculated':yi.transpose(),\n",
        "    'error':(y-yi).transpose()\n",
        "}"
      ],
      "metadata": {
        "colab": {
          "base_uri": "https://localhost:8080/"
        },
        "id": "qkD1WChPTmr1",
        "outputId": "b7c720df-fa3d-471f-c41a-78931107d915"
      },
      "execution_count": 77,
      "outputs": [
        {
          "output_type": "stream",
          "name": "stdout",
          "text": [
            "151.41040622031764\n"
          ]
        }
      ]
    },
    {
      "cell_type": "code",
      "source": [
        "ybar=np.mean(y)\n",
        "SST=np.sum(np.square(np.subtract(y,ybar)))\n",
        "SST"
      ],
      "metadata": {
        "colab": {
          "base_uri": "https://localhost:8080/"
        },
        "id": "rrakh0hhUkZy",
        "outputId": "2ca6595c-e569-4165-e6f8-4ee7b1fb815f"
      },
      "execution_count": 60,
      "outputs": [
        {
          "output_type": "execute_result",
          "data": {
            "text/plain": [
              "330.25"
            ]
          },
          "metadata": {},
          "execution_count": 60
        }
      ]
    },
    {
      "cell_type": "code",
      "source": [
        "SSr=SST-sse\n",
        "SSr\n"
      ],
      "metadata": {
        "colab": {
          "base_uri": "https://localhost:8080/"
        },
        "id": "MylJNlGUU_EZ",
        "outputId": "86368cc8-648d-4200-a327-0021163ccd0c"
      },
      "execution_count": 62,
      "outputs": [
        {
          "output_type": "execute_result",
          "data": {
            "text/plain": [
              "178.83959377968236"
            ]
          },
          "metadata": {},
          "execution_count": 62
        }
      ]
    },
    {
      "cell_type": "code",
      "source": [
        "Coeff_det=SSr/SST\n",
        "if Coeff_det>0.90:\n",
        "  print('Accept')\n",
        "else:\n",
        "  print(\"reject\")"
      ],
      "metadata": {
        "colab": {
          "base_uri": "https://localhost:8080/"
        },
        "id": "eWa6RlBTVKJp",
        "outputId": "c4586f30-e26a-426e-8bfc-11f6ba75fa66"
      },
      "execution_count": 64,
      "outputs": [
        {
          "output_type": "stream",
          "name": "stdout",
          "text": [
            "reject\n"
          ]
        }
      ]
    },
    {
      "cell_type": "markdown",
      "source": [
        "Anova\n"
      ],
      "metadata": {
        "id": "QNg0al6YVZVa"
      }
    },
    {
      "cell_type": "code",
      "source": [
        "k=3\n",
        "n=12\n",
        "f=(SSr/(k-1))/(sse/(n-k))\n",
        "an={\n",
        "    'source of variation':['regression','error','total'],\n",
        "    'sum of squares':[SSr,sse,SST],\n",
        "    'degree of freedom':[k-1,n-k,n-1],\n",
        "    'mean sum of squares':[SSr/(k-1),sse/(n-k),''],\n",
        "    'variance Ratio':['',f,'']\n",
        "}"
      ],
      "metadata": {
        "id": "XkigSZYeVgL3"
      },
      "execution_count": 69,
      "outputs": []
    },
    {
      "cell_type": "code",
      "source": [
        "a=pd.DataFrame(an)\n",
        "d=pd.DataFrame(para_3)\n",
        "print(a)\n",
        "print(d)"
      ],
      "metadata": {
        "colab": {
          "base_uri": "https://localhost:8080/"
        },
        "id": "S3RDOAwsWoNw",
        "outputId": "b4af05c6-e704-43fe-9ab5-fb12653f724d"
      },
      "execution_count": 78,
      "outputs": [
        {
          "output_type": "stream",
          "name": "stdout",
          "text": [
            "  source of variation  sum of squares  degree of freedom mean sum of squares  \\\n",
            "0          regression      178.839594                  2           89.419797   \n",
            "1               error      151.410406                  9           16.823378   \n",
            "2               total      330.250000                 11                       \n",
            "\n",
            "  variance Ratio  \n",
            "0                 \n",
            "1        5.31521  \n",
            "2                 \n",
            "    observed  calculated     error\n",
            "0        100  100.461432 -0.461432\n",
            "1        110  103.113969  6.886031\n",
            "2        105  102.256422  2.743578\n",
            "3         94   94.920932 -0.920932\n",
            "4         95   96.364914 -1.364914\n",
            "5         99  100.967971 -1.967971\n",
            "6        104  105.415498 -1.415498\n",
            "7        108  108.810000 -0.810000\n",
            "8        105  105.259968 -0.259968\n",
            "9         98  105.806454 -7.806454\n",
            "10       105  104.713481  0.286519\n",
            "11       110  104.908959  5.091041\n"
          ]
        }
      ]
    },
    {
      "cell_type": "code",
      "source": [
        "import scipy.stats\n",
        "p = 1-scipy.stats.f.cdf(f,k-1,n-k)\n",
        "if f<p:\n",
        "  print(\"accept\")\n",
        "else:\n",
        "  print('reject')\n"
      ],
      "metadata": {
        "colab": {
          "base_uri": "https://localhost:8080/"
        },
        "id": "4j1_3x6RWxyo",
        "outputId": "13deb256-6a8f-4f8c-8fa2-0e49cbefec06"
      },
      "execution_count": 73,
      "outputs": [
        {
          "output_type": "stream",
          "name": "stdout",
          "text": [
            "reject\n"
          ]
        }
      ]
    }
  ]
}